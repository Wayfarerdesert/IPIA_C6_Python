{
 "cells": [
  {
   "cell_type": "markdown",
   "metadata": {},
   "source": [
    "## Demo funciones pandas"
   ]
  },
  {
   "cell_type": "code",
   "execution_count": 1,
   "metadata": {},
   "outputs": [],
   "source": [
    "%matplotlib inline\n",
    "# importando pandas usando la convención\n",
    "import pandas as pd"
   ]
  },
  {
   "cell_type": "code",
   "execution_count": 2,
   "metadata": {},
   "outputs": [
    {
     "data": {
      "text/html": [
       "<div>\n",
       "<style scoped>\n",
       "    .dataframe tbody tr th:only-of-type {\n",
       "        vertical-align: middle;\n",
       "    }\n",
       "\n",
       "    .dataframe tbody tr th {\n",
       "        vertical-align: top;\n",
       "    }\n",
       "\n",
       "    .dataframe thead th {\n",
       "        text-align: right;\n",
       "    }\n",
       "</style>\n",
       "<table border=\"1\" class=\"dataframe\">\n",
       "  <thead>\n",
       "    <tr style=\"text-align: right;\">\n",
       "      <th></th>\n",
       "      <th>title</th>\n",
       "      <th>year</th>\n",
       "    </tr>\n",
       "  </thead>\n",
       "  <tbody>\n",
       "    <tr>\n",
       "      <th>0</th>\n",
       "      <td>Mahler</td>\n",
       "      <td>1974</td>\n",
       "    </tr>\n",
       "    <tr>\n",
       "      <th>1</th>\n",
       "      <td>Ogon, voda i... mednye truby</td>\n",
       "      <td>1968</td>\n",
       "    </tr>\n",
       "    <tr>\n",
       "      <th>2</th>\n",
       "      <td>Ana Nojoom bent alasherah wamotalagah</td>\n",
       "      <td>2014</td>\n",
       "    </tr>\n",
       "    <tr>\n",
       "      <th>3</th>\n",
       "      <td>Malu de Bicicleta</td>\n",
       "      <td>2010</td>\n",
       "    </tr>\n",
       "    <tr>\n",
       "      <th>4</th>\n",
       "      <td>Nazareno Apostol: Boy Ahas</td>\n",
       "      <td>1989</td>\n",
       "    </tr>\n",
       "  </tbody>\n",
       "</table>\n",
       "</div>"
      ],
      "text/plain": [
       "                                   title  year\n",
       "0                                 Mahler  1974\n",
       "1           Ogon, voda i... mednye truby  1968\n",
       "2  Ana Nojoom bent alasherah wamotalagah  2014\n",
       "3                      Malu de Bicicleta  2010\n",
       "4             Nazareno Apostol: Boy Ahas  1989"
      ]
     },
     "execution_count": 2,
     "metadata": {},
     "output_type": "execute_result"
    }
   ],
   "source": [
    "# Cargar base de datos imdb de titulos de peliculas\n",
    "titulos = pd.read_csv('/home/facundo/Documents/Coding/IPIA_Python_1/Codigo/230522_IPIA_C6_Python/230608/Pandas/Ejercicios/Ejercicios_Pandas_Peliculas/data/titles.csv' )\n",
    "titulos.head()"
   ]
  },
  {
   "cell_type": "code",
   "execution_count": 3,
   "metadata": {},
   "outputs": [
    {
     "data": {
      "text/plain": [
       "'2.0.2'"
      ]
     },
     "execution_count": 3,
     "metadata": {},
     "output_type": "execute_result"
    }
   ],
   "source": [
    "pd.__version__"
   ]
  },
  {
   "cell_type": "code",
   "execution_count": 4,
   "metadata": {},
   "outputs": [
    {
     "data": {
      "text/html": [
       "<div>\n",
       "<style scoped>\n",
       "    .dataframe tbody tr th:only-of-type {\n",
       "        vertical-align: middle;\n",
       "    }\n",
       "\n",
       "    .dataframe tbody tr th {\n",
       "        vertical-align: top;\n",
       "    }\n",
       "\n",
       "    .dataframe thead th {\n",
       "        text-align: right;\n",
       "    }\n",
       "</style>\n",
       "<table border=\"1\" class=\"dataframe\">\n",
       "  <thead>\n",
       "    <tr style=\"text-align: right;\">\n",
       "      <th></th>\n",
       "      <th>title</th>\n",
       "      <th>year</th>\n",
       "      <th>name</th>\n",
       "      <th>type</th>\n",
       "      <th>character</th>\n",
       "      <th>n</th>\n",
       "    </tr>\n",
       "  </thead>\n",
       "  <tbody>\n",
       "    <tr>\n",
       "      <th>0</th>\n",
       "      <td>Closet Monster</td>\n",
       "      <td>2015</td>\n",
       "      <td>Buffy #1</td>\n",
       "      <td>actor</td>\n",
       "      <td>Buffy 4</td>\n",
       "      <td>31.0</td>\n",
       "    </tr>\n",
       "    <tr>\n",
       "      <th>1</th>\n",
       "      <td>Suuri illusioni</td>\n",
       "      <td>1985</td>\n",
       "      <td>Homo $</td>\n",
       "      <td>actor</td>\n",
       "      <td>Guests</td>\n",
       "      <td>22.0</td>\n",
       "    </tr>\n",
       "    <tr>\n",
       "      <th>2</th>\n",
       "      <td>Battle of the Sexes</td>\n",
       "      <td>2017</td>\n",
       "      <td>$hutter</td>\n",
       "      <td>actor</td>\n",
       "      <td>Bobby Riggs Fan</td>\n",
       "      <td>10.0</td>\n",
       "    </tr>\n",
       "    <tr>\n",
       "      <th>3</th>\n",
       "      <td>Secret in Their Eyes</td>\n",
       "      <td>2015</td>\n",
       "      <td>$hutter</td>\n",
       "      <td>actor</td>\n",
       "      <td>2002 Dodger Fan</td>\n",
       "      <td>NaN</td>\n",
       "    </tr>\n",
       "    <tr>\n",
       "      <th>4</th>\n",
       "      <td>Steve Jobs</td>\n",
       "      <td>2015</td>\n",
       "      <td>$hutter</td>\n",
       "      <td>actor</td>\n",
       "      <td>1988 Opera House Patron</td>\n",
       "      <td>NaN</td>\n",
       "    </tr>\n",
       "  </tbody>\n",
       "</table>\n",
       "</div>"
      ],
      "text/plain": [
       "                  title  year      name   type                character     n\n",
       "0        Closet Monster  2015  Buffy #1  actor                  Buffy 4  31.0\n",
       "1       Suuri illusioni  1985    Homo $  actor                   Guests  22.0\n",
       "2   Battle of the Sexes  2017   $hutter  actor          Bobby Riggs Fan  10.0\n",
       "3  Secret in Their Eyes  2015   $hutter  actor          2002 Dodger Fan   NaN\n",
       "4            Steve Jobs  2015   $hutter  actor  1988 Opera House Patron   NaN"
      ]
     },
     "execution_count": 4,
     "metadata": {},
     "output_type": "execute_result"
    }
   ],
   "source": [
    "# Cargar base de datos de elenco de peliculas, de imdb\n",
    "elenco = pd.read_csv('/home/facundo/Documents/Coding/IPIA_Python_1/Codigo/230522_IPIA_C6_Python/230608/Pandas/Ejercicios/Ejercicios_Pandas_Peliculas/data/cast.csv', encoding='utf-8')\n",
    "elenco.head()"
   ]
  },
  {
   "cell_type": "code",
   "execution_count": 5,
   "metadata": {},
   "outputs": [
    {
     "data": {
      "text/plain": [
       "230407"
      ]
     },
     "execution_count": 5,
     "metadata": {},
     "output_type": "execute_result"
    }
   ],
   "source": [
    "# Cuantas peliculas estan listadas en el dataframe de titulos?\n",
    "listado = len(titulos)\n",
    "listado"
   ]
  },
  {
   "cell_type": "code",
   "execution_count": 6,
   "metadata": {},
   "outputs": [
    {
     "name": "stdout",
     "output_type": "stream",
     "text": [
      "<class 'pandas.core.frame.DataFrame'>\n",
      "RangeIndex: 230407 entries, 0 to 230406\n",
      "Data columns (total 2 columns):\n",
      " #   Column  Non-Null Count   Dtype \n",
      "---  ------  --------------   ----- \n",
      " 0   title   230406 non-null  object\n",
      " 1   year    230407 non-null  int64 \n",
      "dtypes: int64(1), object(1)\n",
      "memory usage: 3.5+ MB\n"
     ]
    }
   ],
   "source": [
    "titulos.info()"
   ]
  },
  {
   "cell_type": "markdown",
   "metadata": {},
   "source": [
    "### Revisaremos comandos basicos pandas, sobre estas series"
   ]
  },
  {
   "cell_type": "code",
   "execution_count": null,
   "metadata": {},
   "outputs": [],
   "source": []
  },
  {
   "cell_type": "markdown",
   "metadata": {
    "scrolled": true
   },
   "source": [
    "### Cuales son las peliculas mas antiguas listadas en titulos?\n"
   ]
  },
  {
   "cell_type": "code",
   "execution_count": 8,
   "metadata": {},
   "outputs": [
    {
     "data": {
      "text/html": [
       "<div>\n",
       "<style scoped>\n",
       "    .dataframe tbody tr th:only-of-type {\n",
       "        vertical-align: middle;\n",
       "    }\n",
       "\n",
       "    .dataframe tbody tr th {\n",
       "        vertical-align: top;\n",
       "    }\n",
       "\n",
       "    .dataframe thead th {\n",
       "        text-align: right;\n",
       "    }\n",
       "</style>\n",
       "<table border=\"1\" class=\"dataframe\">\n",
       "  <thead>\n",
       "    <tr style=\"text-align: right;\">\n",
       "      <th></th>\n",
       "      <th>title</th>\n",
       "      <th>year</th>\n",
       "    </tr>\n",
       "  </thead>\n",
       "  <tbody>\n",
       "    <tr>\n",
       "      <th>13229</th>\n",
       "      <td>Miss Jerry</td>\n",
       "      <td>1894</td>\n",
       "    </tr>\n",
       "    <tr>\n",
       "      <th>103233</th>\n",
       "      <td>The Startled Lover</td>\n",
       "      <td>1898</td>\n",
       "    </tr>\n",
       "    <tr>\n",
       "      <th>133020</th>\n",
       "      <td>Reproduction of the Corbett and Jeffries Fight</td>\n",
       "      <td>1899</td>\n",
       "    </tr>\n",
       "    <tr>\n",
       "      <th>51528</th>\n",
       "      <td>Family Troubles (II)</td>\n",
       "      <td>1900</td>\n",
       "    </tr>\n",
       "    <tr>\n",
       "      <th>195127</th>\n",
       "      <td>Pierrot's Problem, or How to Make a Fat Wife O...</td>\n",
       "      <td>1900</td>\n",
       "    </tr>\n",
       "  </tbody>\n",
       "</table>\n",
       "</div>"
      ],
      "text/plain": [
       "                                                    title  year\n",
       "13229                                          Miss Jerry  1894\n",
       "103233                                 The Startled Lover  1898\n",
       "133020     Reproduction of the Corbett and Jeffries Fight  1899\n",
       "51528                                Family Troubles (II)  1900\n",
       "195127  Pierrot's Problem, or How to Make a Fat Wife O...  1900"
      ]
     },
     "execution_count": 8,
     "metadata": {},
     "output_type": "execute_result"
    }
   ],
   "source": [
    "mas_antiguas = titulos.sort_values('year')\n",
    "\n",
    "mas_antiguas.head()"
   ]
  },
  {
   "cell_type": "markdown",
   "metadata": {},
   "source": [
    "### Ejercicios"
   ]
  },
  {
   "cell_type": "markdown",
   "metadata": {},
   "source": [
    "#### Cuantas peliculas estan listadas por el nombre \"Dracula\" ?\n",
    "6"
   ]
  },
  {
   "cell_type": "code",
   "execution_count": 9,
   "metadata": {},
   "outputs": [
    {
     "name": "stdout",
     "output_type": "stream",
     "text": [
      "6\n"
     ]
    }
   ],
   "source": [
    "dftitle = titulos\n",
    "\n",
    "dracula = (dftitle['title'] == 'Dracula').sum()\n",
    "print(dracula)\n",
    "\n"
   ]
  },
  {
   "cell_type": "markdown",
   "metadata": {},
   "source": [
    "#### Titulos mas comunes en la historia filmografica\n",
    "Hamlet                  19\n",
    "\n",
    "Carmen                  16\n",
    "\n",
    "Macbeth                 15\n",
    "\n",
    "Maya                    11\n",
    "\n",
    "The Outsider            11\n",
    "\n",
    "Hero                    11\n",
    "\n",
    "Othello                 11\n",
    "\n",
    "The Three Musketeers    11\n",
    "\n",
    "Anna                    10\n",
    "\n",
    "Vengeance               10\n",
    "\n",
    "Name: title, dtype: int64"
   ]
  },
  {
   "cell_type": "code",
   "execution_count": 56,
   "metadata": {},
   "outputs": [
    {
     "data": {
      "text/plain": [
       "title\n",
       "Hamlet                  19\n",
       "Carmen                  16\n",
       "Macbeth                 15\n",
       "Maya                    11\n",
       "The Outsider            11\n",
       "Hero                    11\n",
       "Othello                 11\n",
       "The Three Musketeers    11\n",
       "Honeymoon               10\n",
       "She                     10\n",
       "Name: count, dtype: int64"
      ]
     },
     "execution_count": 56,
     "metadata": {},
     "output_type": "execute_result"
    }
   ],
   "source": [
    "masComunes = dftitle['title'].value_counts().sort_values(ascending=False).head(10)\n",
    "masComunes"
   ]
  },
  {
   "cell_type": "markdown",
   "metadata": {},
   "source": [
    "#### Cual fue la primer pelicula hecha titulada \"Romeo and Juliet\" ?\n",
    " \ttitle \tyear\n",
    "124702 \tRomeo and Juliet \t1916"
   ]
  },
  {
   "cell_type": "code",
   "execution_count": 59,
   "metadata": {},
   "outputs": [
    {
     "data": {
      "text/html": [
       "<div>\n",
       "<style scoped>\n",
       "    .dataframe tbody tr th:only-of-type {\n",
       "        vertical-align: middle;\n",
       "    }\n",
       "\n",
       "    .dataframe tbody tr th {\n",
       "        vertical-align: top;\n",
       "    }\n",
       "\n",
       "    .dataframe thead th {\n",
       "        text-align: right;\n",
       "    }\n",
       "</style>\n",
       "<table border=\"1\" class=\"dataframe\">\n",
       "  <thead>\n",
       "    <tr style=\"text-align: right;\">\n",
       "      <th></th>\n",
       "      <th>title</th>\n",
       "      <th>year</th>\n",
       "    </tr>\n",
       "  </thead>\n",
       "  <tbody>\n",
       "    <tr>\n",
       "      <th>124702</th>\n",
       "      <td>Romeo and Juliet</td>\n",
       "      <td>1916</td>\n",
       "    </tr>\n",
       "  </tbody>\n",
       "</table>\n",
       "</div>"
      ],
      "text/plain": [
       "                   title  year\n",
       "124702  Romeo and Juliet  1916"
      ]
     },
     "execution_count": 59,
     "metadata": {},
     "output_type": "execute_result"
    }
   ],
   "source": [
    "#firstRyJ = dftitle[dftitle['title']=='Romeo and Juliet']['year'].min()\n",
    "RyJ = dftitle.loc[dftitle['title']=='Romeo and Juliet']\n",
    "\n",
    "a = RyJ.sort_values('year', ascending=True)\n",
    "a.head(1)"
   ]
  },
  {
   "cell_type": "markdown",
   "metadata": {},
   "source": [
    "#### Listar todas las peliculas que contengan la palabra \"Exorcist\" \n",
    "ordenadas de la mas vieja a la mas reciente."
   ]
  },
  {
   "cell_type": "code",
   "execution_count": null,
   "metadata": {},
   "outputs": [],
   "source": [
    "\n"
   ]
  },
  {
   "cell_type": "code",
   "execution_count": 61,
   "metadata": {},
   "outputs": [
    {
     "data": {
      "text/html": [
       "<div>\n",
       "<style scoped>\n",
       "    .dataframe tbody tr th:only-of-type {\n",
       "        vertical-align: middle;\n",
       "    }\n",
       "\n",
       "    .dataframe tbody tr th {\n",
       "        vertical-align: top;\n",
       "    }\n",
       "\n",
       "    .dataframe thead th {\n",
       "        text-align: right;\n",
       "    }\n",
       "</style>\n",
       "<table border=\"1\" class=\"dataframe\">\n",
       "  <thead>\n",
       "    <tr style=\"text-align: right;\">\n",
       "      <th></th>\n",
       "      <th>title</th>\n",
       "      <th>year</th>\n",
       "    </tr>\n",
       "  </thead>\n",
       "  <tbody>\n",
       "    <tr>\n",
       "      <th>88003</th>\n",
       "      <td>The Exorcist</td>\n",
       "      <td>1973</td>\n",
       "    </tr>\n",
       "    <tr>\n",
       "      <th>49658</th>\n",
       "      <td>O Exorcista de Mulheres</td>\n",
       "      <td>1974</td>\n",
       "    </tr>\n",
       "    <tr>\n",
       "      <th>140519</th>\n",
       "      <td>Exorcist II: The Heretic</td>\n",
       "      <td>1977</td>\n",
       "    </tr>\n",
       "    <tr>\n",
       "      <th>220073</th>\n",
       "      <td>Kung Fu Exorcist</td>\n",
       "      <td>1978</td>\n",
       "    </tr>\n",
       "    <tr>\n",
       "      <th>17375</th>\n",
       "      <td>The Exorcist III</td>\n",
       "      <td>1990</td>\n",
       "    </tr>\n",
       "    <tr>\n",
       "      <th>132451</th>\n",
       "      <td>Teenage Exorcist</td>\n",
       "      <td>1991</td>\n",
       "    </tr>\n",
       "    <tr>\n",
       "      <th>117797</th>\n",
       "      <td>Exorcist: The Beginning</td>\n",
       "      <td>2004</td>\n",
       "    </tr>\n",
       "    <tr>\n",
       "      <th>94189</th>\n",
       "      <td>Dominion: Prequel to the Exorcist</td>\n",
       "      <td>2005</td>\n",
       "    </tr>\n",
       "    <tr>\n",
       "      <th>209250</th>\n",
       "      <td>Costa Chica: Confession of an Exorcist</td>\n",
       "      <td>2006</td>\n",
       "    </tr>\n",
       "    <tr>\n",
       "      <th>86354</th>\n",
       "      <td>Exorcist Chronicles</td>\n",
       "      <td>2007</td>\n",
       "    </tr>\n",
       "    <tr>\n",
       "      <th>130686</th>\n",
       "      <td>The Disco Exorcist</td>\n",
       "      <td>2011</td>\n",
       "    </tr>\n",
       "    <tr>\n",
       "      <th>57932</th>\n",
       "      <td>Exorcist Chronicles</td>\n",
       "      <td>2013</td>\n",
       "    </tr>\n",
       "    <tr>\n",
       "      <th>69974</th>\n",
       "      <td>Shark Exorcist</td>\n",
       "      <td>2015</td>\n",
       "    </tr>\n",
       "    <tr>\n",
       "      <th>51101</th>\n",
       "      <td>Bad Exorcists</td>\n",
       "      <td>2015</td>\n",
       "    </tr>\n",
       "    <tr>\n",
       "      <th>151850</th>\n",
       "      <td>Exorcistas</td>\n",
       "      <td>2015</td>\n",
       "    </tr>\n",
       "    <tr>\n",
       "      <th>60700</th>\n",
       "      <td>Accidental Exorcist</td>\n",
       "      <td>2016</td>\n",
       "    </tr>\n",
       "    <tr>\n",
       "      <th>161093</th>\n",
       "      <td>American Exorcist</td>\n",
       "      <td>2016</td>\n",
       "    </tr>\n",
       "    <tr>\n",
       "      <th>195615</th>\n",
       "      <td>Diary of an Exorcist</td>\n",
       "      <td>2016</td>\n",
       "    </tr>\n",
       "    <tr>\n",
       "      <th>228642</th>\n",
       "      <td>Exorcist House of Evil</td>\n",
       "      <td>2016</td>\n",
       "    </tr>\n",
       "  </tbody>\n",
       "</table>\n",
       "</div>"
      ],
      "text/plain": [
       "                                         title  year\n",
       "88003                             The Exorcist  1973\n",
       "49658                  O Exorcista de Mulheres  1974\n",
       "140519                Exorcist II: The Heretic  1977\n",
       "220073                        Kung Fu Exorcist  1978\n",
       "17375                         The Exorcist III  1990\n",
       "132451                        Teenage Exorcist  1991\n",
       "117797                 Exorcist: The Beginning  2004\n",
       "94189        Dominion: Prequel to the Exorcist  2005\n",
       "209250  Costa Chica: Confession of an Exorcist  2006\n",
       "86354                      Exorcist Chronicles  2007\n",
       "130686                      The Disco Exorcist  2011\n",
       "57932                      Exorcist Chronicles  2013\n",
       "69974                           Shark Exorcist  2015\n",
       "51101                            Bad Exorcists  2015\n",
       "151850                              Exorcistas  2015\n",
       "60700                      Accidental Exorcist  2016\n",
       "161093                       American Exorcist  2016\n",
       "195615                    Diary of an Exorcist  2016\n",
       "228642                  Exorcist House of Evil  2016"
      ]
     },
     "execution_count": 61,
     "metadata": {},
     "output_type": "execute_result"
    }
   ],
   "source": [
    "#dftitle['title'] = dftitle['title'].fillna('')\n",
    "exorcist = dftitle[dftitle['title'].str.contains('Exorcist')].sort_values('year', ascending=True)\n",
    "\n",
    "exorcist\n"
   ]
  },
  {
   "cell_type": "markdown",
   "metadata": {},
   "source": [
    "#### Cuantas peliculas fueron hechas en el año 1950?\n",
    "1081"
   ]
  },
  {
   "cell_type": "code",
   "execution_count": 13,
   "metadata": {},
   "outputs": [
    {
     "data": {
      "text/plain": [
       "1081"
      ]
     },
     "execution_count": 13,
     "metadata": {},
     "output_type": "execute_result"
    }
   ],
   "source": [
    "cincuenta = (dftitle['year']==1950).sum()\n",
    "cincuenta"
   ]
  },
  {
   "cell_type": "markdown",
   "metadata": {},
   "source": [
    "#### Cuantas peliculas fueron hechas en el año 1970?\n",
    "2106"
   ]
  },
  {
   "cell_type": "code",
   "execution_count": 63,
   "metadata": {},
   "outputs": [
    {
     "data": {
      "text/plain": [
       "2106"
      ]
     },
     "execution_count": 63,
     "metadata": {},
     "output_type": "execute_result"
    }
   ],
   "source": [
    "len(dftitle[dftitle['year']==1970])"
   ]
  },
  {
   "cell_type": "markdown",
   "metadata": {},
   "source": [
    "#### Cuantas peliculas fueron hechas de 1950 a 1959\n",
    "12606"
   ]
  },
  {
   "cell_type": "code",
   "execution_count": 15,
   "metadata": {},
   "outputs": [
    {
     "data": {
      "text/plain": [
       "12606"
      ]
     },
     "execution_count": 15,
     "metadata": {},
     "output_type": "execute_result"
    }
   ],
   "source": [
    "title50s = (dftitle['year']>= 1950)&(dftitle['year']<= 1959)\n",
    "\n",
    "total = sum(title50s)\n",
    "total"
   ]
  },
  {
   "cell_type": "markdown",
   "metadata": {},
   "source": [
    "#### En que años alguna pelicula llamada \"Batman\" se presento\n",
    " \ttitle \tyear\n",
    "55819 \tBatman \t1989\n",
    "\n",
    "111048 \tBatman \t1943"
   ]
  },
  {
   "cell_type": "code",
   "execution_count": 16,
   "metadata": {},
   "outputs": [
    {
     "data": {
      "text/html": [
       "<div>\n",
       "<style scoped>\n",
       "    .dataframe tbody tr th:only-of-type {\n",
       "        vertical-align: middle;\n",
       "    }\n",
       "\n",
       "    .dataframe tbody tr th {\n",
       "        vertical-align: top;\n",
       "    }\n",
       "\n",
       "    .dataframe thead th {\n",
       "        text-align: right;\n",
       "    }\n",
       "</style>\n",
       "<table border=\"1\" class=\"dataframe\">\n",
       "  <thead>\n",
       "    <tr style=\"text-align: right;\">\n",
       "      <th></th>\n",
       "      <th>title</th>\n",
       "      <th>year</th>\n",
       "    </tr>\n",
       "  </thead>\n",
       "  <tbody>\n",
       "    <tr>\n",
       "      <th>55819</th>\n",
       "      <td>Batman</td>\n",
       "      <td>1989</td>\n",
       "    </tr>\n",
       "    <tr>\n",
       "      <th>111048</th>\n",
       "      <td>Batman</td>\n",
       "      <td>1943</td>\n",
       "    </tr>\n",
       "  </tbody>\n",
       "</table>\n",
       "</div>"
      ],
      "text/plain": [
       "         title  year\n",
       "55819   Batman  1989\n",
       "111048  Batman  1943"
      ]
     },
     "execution_count": 16,
     "metadata": {},
     "output_type": "execute_result"
    }
   ],
   "source": [
    "batman=dftitle[dftitle['title']=='Batman']\n",
    "batman\n"
   ]
  },
  {
   "cell_type": "markdown",
   "metadata": {},
   "source": [
    "#### Cuantos roles o papeles hubo en la pelicula \"The Godfather\"\n",
    "76"
   ]
  },
  {
   "cell_type": "code",
   "execution_count": 17,
   "metadata": {},
   "outputs": [
    {
     "data": {
      "text/html": [
       "<div>\n",
       "<style scoped>\n",
       "    .dataframe tbody tr th:only-of-type {\n",
       "        vertical-align: middle;\n",
       "    }\n",
       "\n",
       "    .dataframe tbody tr th {\n",
       "        vertical-align: top;\n",
       "    }\n",
       "\n",
       "    .dataframe thead th {\n",
       "        text-align: right;\n",
       "    }\n",
       "</style>\n",
       "<table border=\"1\" class=\"dataframe\">\n",
       "  <thead>\n",
       "    <tr style=\"text-align: right;\">\n",
       "      <th></th>\n",
       "      <th>title</th>\n",
       "      <th>year</th>\n",
       "      <th>name</th>\n",
       "      <th>type</th>\n",
       "      <th>character</th>\n",
       "      <th>n</th>\n",
       "    </tr>\n",
       "  </thead>\n",
       "  <tbody>\n",
       "    <tr>\n",
       "      <th>0</th>\n",
       "      <td>Closet Monster</td>\n",
       "      <td>2015</td>\n",
       "      <td>Buffy #1</td>\n",
       "      <td>actor</td>\n",
       "      <td>Buffy 4</td>\n",
       "      <td>31.0</td>\n",
       "    </tr>\n",
       "    <tr>\n",
       "      <th>1</th>\n",
       "      <td>Suuri illusioni</td>\n",
       "      <td>1985</td>\n",
       "      <td>Homo $</td>\n",
       "      <td>actor</td>\n",
       "      <td>Guests</td>\n",
       "      <td>22.0</td>\n",
       "    </tr>\n",
       "    <tr>\n",
       "      <th>2</th>\n",
       "      <td>Battle of the Sexes</td>\n",
       "      <td>2017</td>\n",
       "      <td>$hutter</td>\n",
       "      <td>actor</td>\n",
       "      <td>Bobby Riggs Fan</td>\n",
       "      <td>10.0</td>\n",
       "    </tr>\n",
       "    <tr>\n",
       "      <th>3</th>\n",
       "      <td>Secret in Their Eyes</td>\n",
       "      <td>2015</td>\n",
       "      <td>$hutter</td>\n",
       "      <td>actor</td>\n",
       "      <td>2002 Dodger Fan</td>\n",
       "      <td>NaN</td>\n",
       "    </tr>\n",
       "    <tr>\n",
       "      <th>4</th>\n",
       "      <td>Steve Jobs</td>\n",
       "      <td>2015</td>\n",
       "      <td>$hutter</td>\n",
       "      <td>actor</td>\n",
       "      <td>1988 Opera House Patron</td>\n",
       "      <td>NaN</td>\n",
       "    </tr>\n",
       "  </tbody>\n",
       "</table>\n",
       "</div>"
      ],
      "text/plain": [
       "                  title  year      name   type                character     n\n",
       "0        Closet Monster  2015  Buffy #1  actor                  Buffy 4  31.0\n",
       "1       Suuri illusioni  1985    Homo $  actor                   Guests  22.0\n",
       "2   Battle of the Sexes  2017   $hutter  actor          Bobby Riggs Fan  10.0\n",
       "3  Secret in Their Eyes  2015   $hutter  actor          2002 Dodger Fan   NaN\n",
       "4            Steve Jobs  2015   $hutter  actor  1988 Opera House Patron   NaN"
      ]
     },
     "execution_count": 17,
     "metadata": {},
     "output_type": "execute_result"
    }
   ],
   "source": [
    "dfelenco = elenco\n",
    "dfelenco.head()"
   ]
  },
  {
   "cell_type": "code",
   "execution_count": 18,
   "metadata": {},
   "outputs": [
    {
     "data": {
      "text/plain": [
       "76"
      ]
     },
     "execution_count": 18,
     "metadata": {},
     "output_type": "execute_result"
    }
   ],
   "source": [
    "roles = (dfelenco['title']=='The Godfather').sum()\n",
    "roles"
   ]
  },
  {
   "cell_type": "markdown",
   "metadata": {},
   "source": [
    "#### Cuantos papeles en la pelicula \"The Godfather\" no estan clasificados en algun valor \"n\"\n",
    "\n",
    "42\n"
   ]
  },
  {
   "cell_type": "code",
   "execution_count": 19,
   "metadata": {},
   "outputs": [
    {
     "data": {
      "text/plain": [
       "42"
      ]
     },
     "execution_count": 19,
     "metadata": {},
     "output_type": "execute_result"
    }
   ],
   "source": [
    "godfather = dfelenco[dfelenco['title']=='The Godfather']\n",
    "unclassified = godfather['n'].isnull().sum()\n",
    "unclassified"
   ]
  },
  {
   "cell_type": "markdown",
   "metadata": {},
   "source": [
    "#### Cuantos papeles en la pelicula \"The Godfather\" si estuvieron clasificados con un valor \"n\"\n",
    "34"
   ]
  },
  {
   "cell_type": "code",
   "execution_count": 20,
   "metadata": {},
   "outputs": [
    {
     "data": {
      "text/plain": [
       "34"
      ]
     },
     "execution_count": 20,
     "metadata": {},
     "output_type": "execute_result"
    }
   ],
   "source": [
    "godfather = dfelenco[dfelenco['title']=='The Godfather']\n",
    "classified = godfather['n'].notnull().sum()\n",
    "classified"
   ]
  },
  {
   "cell_type": "markdown",
   "metadata": {},
   "source": [
    "#### Mostrar el elenco completo de la pelicula \"2001: A Space Odyssey\" \n",
    "ordenado por su clasificasión \"n\", ignorando los papeles que \n",
    "no se les asigno ningun valor \"n\""
   ]
  },
  {
   "cell_type": "code",
   "execution_count": null,
   "metadata": {
    "scrolled": true
   },
   "outputs": [],
   "source": []
  },
  {
   "cell_type": "code",
   "execution_count": 21,
   "metadata": {
    "scrolled": true
   },
   "outputs": [
    {
     "data": {
      "text/html": [
       "<div>\n",
       "<style scoped>\n",
       "    .dataframe tbody tr th:only-of-type {\n",
       "        vertical-align: middle;\n",
       "    }\n",
       "\n",
       "    .dataframe tbody tr th {\n",
       "        vertical-align: top;\n",
       "    }\n",
       "\n",
       "    .dataframe thead th {\n",
       "        text-align: right;\n",
       "    }\n",
       "</style>\n",
       "<table border=\"1\" class=\"dataframe\">\n",
       "  <thead>\n",
       "    <tr style=\"text-align: right;\">\n",
       "      <th></th>\n",
       "      <th>title</th>\n",
       "      <th>year</th>\n",
       "      <th>name</th>\n",
       "      <th>type</th>\n",
       "      <th>character</th>\n",
       "      <th>n</th>\n",
       "    </tr>\n",
       "  </thead>\n",
       "  <tbody>\n",
       "    <tr>\n",
       "      <th>602795</th>\n",
       "      <td>2001: A Space Odyssey</td>\n",
       "      <td>1968</td>\n",
       "      <td>Keir Dullea</td>\n",
       "      <td>actor</td>\n",
       "      <td>Dr. Dave Bowman</td>\n",
       "      <td>1.0</td>\n",
       "    </tr>\n",
       "    <tr>\n",
       "      <th>1288927</th>\n",
       "      <td>2001: A Space Odyssey</td>\n",
       "      <td>1968</td>\n",
       "      <td>Gary Lockwood</td>\n",
       "      <td>actor</td>\n",
       "      <td>Dr. Frank Poole</td>\n",
       "      <td>2.0</td>\n",
       "    </tr>\n",
       "    <tr>\n",
       "      <th>2113186</th>\n",
       "      <td>2001: A Space Odyssey</td>\n",
       "      <td>1968</td>\n",
       "      <td>William Sylvester</td>\n",
       "      <td>actor</td>\n",
       "      <td>Dr. Heywood R. Floyd</td>\n",
       "      <td>3.0</td>\n",
       "    </tr>\n",
       "    <tr>\n",
       "      <th>1823947</th>\n",
       "      <td>2001: A Space Odyssey</td>\n",
       "      <td>1968</td>\n",
       "      <td>Daniel Richter</td>\n",
       "      <td>actor</td>\n",
       "      <td>Moon-Watcher</td>\n",
       "      <td>4.0</td>\n",
       "    </tr>\n",
       "    <tr>\n",
       "      <th>1872093</th>\n",
       "      <td>2001: A Space Odyssey</td>\n",
       "      <td>1968</td>\n",
       "      <td>Leonard Rossiter</td>\n",
       "      <td>actor</td>\n",
       "      <td>Dr. Andrei Smyslov</td>\n",
       "      <td>5.0</td>\n",
       "    </tr>\n",
       "    <tr>\n",
       "      <th>3464754</th>\n",
       "      <td>2001: A Space Odyssey</td>\n",
       "      <td>1968</td>\n",
       "      <td>Margaret Tyzack</td>\n",
       "      <td>actress</td>\n",
       "      <td>Elena</td>\n",
       "      <td>6.0</td>\n",
       "    </tr>\n",
       "    <tr>\n",
       "      <th>151781</th>\n",
       "      <td>2001: A Space Odyssey</td>\n",
       "      <td>1968</td>\n",
       "      <td>Robert Beatty</td>\n",
       "      <td>actor</td>\n",
       "      <td>Dr. Ralph Halvorsen</td>\n",
       "      <td>7.0</td>\n",
       "    </tr>\n",
       "    <tr>\n",
       "      <th>2101643</th>\n",
       "      <td>2001: A Space Odyssey</td>\n",
       "      <td>1968</td>\n",
       "      <td>Sean Sullivan</td>\n",
       "      <td>actor</td>\n",
       "      <td>Dr. Bill Michaels</td>\n",
       "      <td>8.0</td>\n",
       "    </tr>\n",
       "    <tr>\n",
       "      <th>1775057</th>\n",
       "      <td>2001: A Space Odyssey</td>\n",
       "      <td>1968</td>\n",
       "      <td>Douglas Rain</td>\n",
       "      <td>actor</td>\n",
       "      <td>HAL 9000</td>\n",
       "      <td>9.0</td>\n",
       "    </tr>\n",
       "    <tr>\n",
       "      <th>1469910</th>\n",
       "      <td>2001: A Space Odyssey</td>\n",
       "      <td>1968</td>\n",
       "      <td>Frank Miller</td>\n",
       "      <td>actor</td>\n",
       "      <td>Mission Controller</td>\n",
       "      <td>10.0</td>\n",
       "    </tr>\n",
       "    <tr>\n",
       "      <th>2310523</th>\n",
       "      <td>2001: A Space Odyssey</td>\n",
       "      <td>1968</td>\n",
       "      <td>Bill Weston</td>\n",
       "      <td>actor</td>\n",
       "      <td>Astronaut</td>\n",
       "      <td>11.0</td>\n",
       "    </tr>\n",
       "    <tr>\n",
       "      <th>197975</th>\n",
       "      <td>2001: A Space Odyssey</td>\n",
       "      <td>1968</td>\n",
       "      <td>Ed Bishop</td>\n",
       "      <td>actor</td>\n",
       "      <td>Aries-1B Lunar Shuttle Captain</td>\n",
       "      <td>12.0</td>\n",
       "    </tr>\n",
       "    <tr>\n",
       "      <th>153470</th>\n",
       "      <td>2001: A Space Odyssey</td>\n",
       "      <td>1968</td>\n",
       "      <td>Glenn Beck</td>\n",
       "      <td>actor</td>\n",
       "      <td>Astronaut</td>\n",
       "      <td>13.0</td>\n",
       "    </tr>\n",
       "    <tr>\n",
       "      <th>788106</th>\n",
       "      <td>2001: A Space Odyssey</td>\n",
       "      <td>1968</td>\n",
       "      <td>Alan Gifford</td>\n",
       "      <td>actor</td>\n",
       "      <td>Poole's Father</td>\n",
       "      <td>14.0</td>\n",
       "    </tr>\n",
       "    <tr>\n",
       "      <th>2787922</th>\n",
       "      <td>2001: A Space Odyssey</td>\n",
       "      <td>1968</td>\n",
       "      <td>Ann Gillis</td>\n",
       "      <td>actress</td>\n",
       "      <td>Poole's Mother</td>\n",
       "      <td>15.0</td>\n",
       "    </tr>\n",
       "    <tr>\n",
       "      <th>2572025</th>\n",
       "      <td>2001: A Space Odyssey</td>\n",
       "      <td>1968</td>\n",
       "      <td>Edwina Carroll</td>\n",
       "      <td>actress</td>\n",
       "      <td>Aries-1B Stewardess</td>\n",
       "      <td>16.0</td>\n",
       "    </tr>\n",
       "    <tr>\n",
       "      <th>2529579</th>\n",
       "      <td>2001: A Space Odyssey</td>\n",
       "      <td>1968</td>\n",
       "      <td>Penny Brahms</td>\n",
       "      <td>actress</td>\n",
       "      <td>Stewardess</td>\n",
       "      <td>17.0</td>\n",
       "    </tr>\n",
       "    <tr>\n",
       "      <th>2690543</th>\n",
       "      <td>2001: A Space Odyssey</td>\n",
       "      <td>1968</td>\n",
       "      <td>Heather Downham</td>\n",
       "      <td>actress</td>\n",
       "      <td>Stewardess</td>\n",
       "      <td>18.0</td>\n",
       "    </tr>\n",
       "    <tr>\n",
       "      <th>1302983</th>\n",
       "      <td>2001: A Space Odyssey</td>\n",
       "      <td>1968</td>\n",
       "      <td>Mike Lovell</td>\n",
       "      <td>actor</td>\n",
       "      <td>Astronaut</td>\n",
       "      <td>19.0</td>\n",
       "    </tr>\n",
       "    <tr>\n",
       "      <th>85047</th>\n",
       "      <td>2001: A Space Odyssey</td>\n",
       "      <td>1968</td>\n",
       "      <td>John (III) Ashley</td>\n",
       "      <td>actor</td>\n",
       "      <td>Ape</td>\n",
       "      <td>20.0</td>\n",
       "    </tr>\n",
       "    <tr>\n",
       "      <th>161571</th>\n",
       "      <td>2001: A Space Odyssey</td>\n",
       "      <td>1968</td>\n",
       "      <td>Jimmy Bell</td>\n",
       "      <td>actor</td>\n",
       "      <td>Ape</td>\n",
       "      <td>21.0</td>\n",
       "    </tr>\n",
       "    <tr>\n",
       "      <th>373027</th>\n",
       "      <td>2001: A Space Odyssey</td>\n",
       "      <td>1968</td>\n",
       "      <td>David Charkham</td>\n",
       "      <td>actor</td>\n",
       "      <td>Ape</td>\n",
       "      <td>22.0</td>\n",
       "    </tr>\n",
       "    <tr>\n",
       "      <th>514378</th>\n",
       "      <td>2001: A Space Odyssey</td>\n",
       "      <td>1968</td>\n",
       "      <td>Simon Davis</td>\n",
       "      <td>actor</td>\n",
       "      <td>Ape</td>\n",
       "      <td>23.0</td>\n",
       "    </tr>\n",
       "    <tr>\n",
       "      <th>515635</th>\n",
       "      <td>2001: A Space Odyssey</td>\n",
       "      <td>1968</td>\n",
       "      <td>Jonathan Daw</td>\n",
       "      <td>actor</td>\n",
       "      <td>Ape</td>\n",
       "      <td>24.0</td>\n",
       "    </tr>\n",
       "    <tr>\n",
       "      <th>541763</th>\n",
       "      <td>2001: A Space Odyssey</td>\n",
       "      <td>1968</td>\n",
       "      <td>P?ter Delm?r</td>\n",
       "      <td>actor</td>\n",
       "      <td>Ape</td>\n",
       "      <td>25.0</td>\n",
       "    </tr>\n",
       "    <tr>\n",
       "      <th>601760</th>\n",
       "      <td>2001: A Space Odyssey</td>\n",
       "      <td>1968</td>\n",
       "      <td>Terry Duggan</td>\n",
       "      <td>actor</td>\n",
       "      <td>Ape Attacked by Leopard</td>\n",
       "      <td>26.0</td>\n",
       "    </tr>\n",
       "    <tr>\n",
       "      <th>702077</th>\n",
       "      <td>2001: A Space Odyssey</td>\n",
       "      <td>1968</td>\n",
       "      <td>David Fleetwood</td>\n",
       "      <td>actor</td>\n",
       "      <td>Ape</td>\n",
       "      <td>27.0</td>\n",
       "    </tr>\n",
       "    <tr>\n",
       "      <th>849029</th>\n",
       "      <td>2001: A Space Odyssey</td>\n",
       "      <td>1968</td>\n",
       "      <td>Danny Grover</td>\n",
       "      <td>actor</td>\n",
       "      <td>Ape</td>\n",
       "      <td>28.0</td>\n",
       "    </tr>\n",
       "    <tr>\n",
       "      <th>916925</th>\n",
       "      <td>2001: A Space Odyssey</td>\n",
       "      <td>1968</td>\n",
       "      <td>Brian Hawley</td>\n",
       "      <td>actor</td>\n",
       "      <td>Ape</td>\n",
       "      <td>29.0</td>\n",
       "    </tr>\n",
       "    <tr>\n",
       "      <th>954413</th>\n",
       "      <td>2001: A Space Odyssey</td>\n",
       "      <td>1968</td>\n",
       "      <td>David Hines</td>\n",
       "      <td>actor</td>\n",
       "      <td>Ape</td>\n",
       "      <td>30.0</td>\n",
       "    </tr>\n",
       "    <tr>\n",
       "      <th>1030910</th>\n",
       "      <td>2001: A Space Odyssey</td>\n",
       "      <td>1968</td>\n",
       "      <td>Tony Jackson</td>\n",
       "      <td>actor</td>\n",
       "      <td>Ape</td>\n",
       "      <td>31.0</td>\n",
       "    </tr>\n",
       "    <tr>\n",
       "      <th>1074233</th>\n",
       "      <td>2001: A Space Odyssey</td>\n",
       "      <td>1968</td>\n",
       "      <td>John (X) Jordan</td>\n",
       "      <td>actor</td>\n",
       "      <td>Ape</td>\n",
       "      <td>32.0</td>\n",
       "    </tr>\n",
       "    <tr>\n",
       "      <th>1329956</th>\n",
       "      <td>2001: A Space Odyssey</td>\n",
       "      <td>1968</td>\n",
       "      <td>Scott MacKee</td>\n",
       "      <td>actor</td>\n",
       "      <td>Ape</td>\n",
       "      <td>33.0</td>\n",
       "    </tr>\n",
       "    <tr>\n",
       "      <th>1361809</th>\n",
       "      <td>2001: A Space Odyssey</td>\n",
       "      <td>1968</td>\n",
       "      <td>Laurence Marchant</td>\n",
       "      <td>actor</td>\n",
       "      <td>Ape</td>\n",
       "      <td>34.0</td>\n",
       "    </tr>\n",
       "    <tr>\n",
       "      <th>1644362</th>\n",
       "      <td>2001: A Space Odyssey</td>\n",
       "      <td>1968</td>\n",
       "      <td>Darryl Paes</td>\n",
       "      <td>actor</td>\n",
       "      <td>Ape</td>\n",
       "      <td>35.0</td>\n",
       "    </tr>\n",
       "    <tr>\n",
       "      <th>1801551</th>\n",
       "      <td>2001: A Space Odyssey</td>\n",
       "      <td>1968</td>\n",
       "      <td>Joe Refalo</td>\n",
       "      <td>actor</td>\n",
       "      <td>Ape</td>\n",
       "      <td>36.0</td>\n",
       "    </tr>\n",
       "    <tr>\n",
       "      <th>2273687</th>\n",
       "      <td>2001: A Space Odyssey</td>\n",
       "      <td>1968</td>\n",
       "      <td>Andy Wallace</td>\n",
       "      <td>actor</td>\n",
       "      <td>Ape</td>\n",
       "      <td>37.0</td>\n",
       "    </tr>\n",
       "    <tr>\n",
       "      <th>2343583</th>\n",
       "      <td>2001: A Space Odyssey</td>\n",
       "      <td>1968</td>\n",
       "      <td>Bob Wilyman</td>\n",
       "      <td>actor</td>\n",
       "      <td>Ape</td>\n",
       "      <td>38.0</td>\n",
       "    </tr>\n",
       "    <tr>\n",
       "      <th>2359428</th>\n",
       "      <td>2001: A Space Odyssey</td>\n",
       "      <td>1968</td>\n",
       "      <td>Richard (II) Woods</td>\n",
       "      <td>actor</td>\n",
       "      <td>Ape Killed by Moon-Watcher</td>\n",
       "      <td>39.0</td>\n",
       "    </tr>\n",
       "  </tbody>\n",
       "</table>\n",
       "</div>"
      ],
      "text/plain": [
       "                         title  year                name     type  \\\n",
       "602795   2001: A Space Odyssey  1968         Keir Dullea    actor   \n",
       "1288927  2001: A Space Odyssey  1968       Gary Lockwood    actor   \n",
       "2113186  2001: A Space Odyssey  1968   William Sylvester    actor   \n",
       "1823947  2001: A Space Odyssey  1968      Daniel Richter    actor   \n",
       "1872093  2001: A Space Odyssey  1968    Leonard Rossiter    actor   \n",
       "3464754  2001: A Space Odyssey  1968     Margaret Tyzack  actress   \n",
       "151781   2001: A Space Odyssey  1968       Robert Beatty    actor   \n",
       "2101643  2001: A Space Odyssey  1968       Sean Sullivan    actor   \n",
       "1775057  2001: A Space Odyssey  1968        Douglas Rain    actor   \n",
       "1469910  2001: A Space Odyssey  1968        Frank Miller    actor   \n",
       "2310523  2001: A Space Odyssey  1968         Bill Weston    actor   \n",
       "197975   2001: A Space Odyssey  1968           Ed Bishop    actor   \n",
       "153470   2001: A Space Odyssey  1968          Glenn Beck    actor   \n",
       "788106   2001: A Space Odyssey  1968        Alan Gifford    actor   \n",
       "2787922  2001: A Space Odyssey  1968          Ann Gillis  actress   \n",
       "2572025  2001: A Space Odyssey  1968      Edwina Carroll  actress   \n",
       "2529579  2001: A Space Odyssey  1968        Penny Brahms  actress   \n",
       "2690543  2001: A Space Odyssey  1968     Heather Downham  actress   \n",
       "1302983  2001: A Space Odyssey  1968         Mike Lovell    actor   \n",
       "85047    2001: A Space Odyssey  1968   John (III) Ashley    actor   \n",
       "161571   2001: A Space Odyssey  1968          Jimmy Bell    actor   \n",
       "373027   2001: A Space Odyssey  1968      David Charkham    actor   \n",
       "514378   2001: A Space Odyssey  1968         Simon Davis    actor   \n",
       "515635   2001: A Space Odyssey  1968        Jonathan Daw    actor   \n",
       "541763   2001: A Space Odyssey  1968        P?ter Delm?r    actor   \n",
       "601760   2001: A Space Odyssey  1968        Terry Duggan    actor   \n",
       "702077   2001: A Space Odyssey  1968     David Fleetwood    actor   \n",
       "849029   2001: A Space Odyssey  1968        Danny Grover    actor   \n",
       "916925   2001: A Space Odyssey  1968        Brian Hawley    actor   \n",
       "954413   2001: A Space Odyssey  1968         David Hines    actor   \n",
       "1030910  2001: A Space Odyssey  1968        Tony Jackson    actor   \n",
       "1074233  2001: A Space Odyssey  1968     John (X) Jordan    actor   \n",
       "1329956  2001: A Space Odyssey  1968        Scott MacKee    actor   \n",
       "1361809  2001: A Space Odyssey  1968   Laurence Marchant    actor   \n",
       "1644362  2001: A Space Odyssey  1968         Darryl Paes    actor   \n",
       "1801551  2001: A Space Odyssey  1968          Joe Refalo    actor   \n",
       "2273687  2001: A Space Odyssey  1968        Andy Wallace    actor   \n",
       "2343583  2001: A Space Odyssey  1968         Bob Wilyman    actor   \n",
       "2359428  2001: A Space Odyssey  1968  Richard (II) Woods    actor   \n",
       "\n",
       "                              character     n  \n",
       "602795                  Dr. Dave Bowman   1.0  \n",
       "1288927                 Dr. Frank Poole   2.0  \n",
       "2113186            Dr. Heywood R. Floyd   3.0  \n",
       "1823947                    Moon-Watcher   4.0  \n",
       "1872093              Dr. Andrei Smyslov   5.0  \n",
       "3464754                           Elena   6.0  \n",
       "151781              Dr. Ralph Halvorsen   7.0  \n",
       "2101643               Dr. Bill Michaels   8.0  \n",
       "1775057                        HAL 9000   9.0  \n",
       "1469910              Mission Controller  10.0  \n",
       "2310523                       Astronaut  11.0  \n",
       "197975   Aries-1B Lunar Shuttle Captain  12.0  \n",
       "153470                        Astronaut  13.0  \n",
       "788106                   Poole's Father  14.0  \n",
       "2787922                  Poole's Mother  15.0  \n",
       "2572025             Aries-1B Stewardess  16.0  \n",
       "2529579                      Stewardess  17.0  \n",
       "2690543                      Stewardess  18.0  \n",
       "1302983                       Astronaut  19.0  \n",
       "85047                               Ape  20.0  \n",
       "161571                              Ape  21.0  \n",
       "373027                              Ape  22.0  \n",
       "514378                              Ape  23.0  \n",
       "515635                              Ape  24.0  \n",
       "541763                              Ape  25.0  \n",
       "601760          Ape Attacked by Leopard  26.0  \n",
       "702077                              Ape  27.0  \n",
       "849029                              Ape  28.0  \n",
       "916925                              Ape  29.0  \n",
       "954413                              Ape  30.0  \n",
       "1030910                             Ape  31.0  \n",
       "1074233                             Ape  32.0  \n",
       "1329956                             Ape  33.0  \n",
       "1361809                             Ape  34.0  \n",
       "1644362                             Ape  35.0  \n",
       "1801551                             Ape  36.0  \n",
       "2273687                             Ape  37.0  \n",
       "2343583                             Ape  38.0  \n",
       "2359428      Ape Killed by Moon-Watcher  39.0  "
      ]
     },
     "execution_count": 21,
     "metadata": {},
     "output_type": "execute_result"
    }
   ],
   "source": [
    "spaceodyssey = dfelenco[dfelenco['title']=='2001: A Space Odyssey']\n",
    "\n",
    "classified = spaceodyssey[spaceodyssey['n'].notnull()].sort_values(by='n', ascending=True)\n",
    "classified\n"
   ]
  },
  {
   "cell_type": "markdown",
   "metadata": {},
   "source": [
    "#### Mostrar el elenco completo ordenado por la clasificacion \"n\"de la pelicula \"Dracula\" de 1958"
   ]
  },
  {
   "cell_type": "code",
   "execution_count": null,
   "metadata": {
    "scrolled": true
   },
   "outputs": [],
   "source": []
  },
  {
   "cell_type": "code",
   "execution_count": 131,
   "metadata": {},
   "outputs": [
    {
     "data": {
      "text/html": [
       "<div>\n",
       "<style scoped>\n",
       "    .dataframe tbody tr th:only-of-type {\n",
       "        vertical-align: middle;\n",
       "    }\n",
       "\n",
       "    .dataframe tbody tr th {\n",
       "        vertical-align: top;\n",
       "    }\n",
       "\n",
       "    .dataframe thead th {\n",
       "        text-align: right;\n",
       "    }\n",
       "</style>\n",
       "<table border=\"1\" class=\"dataframe\">\n",
       "  <thead>\n",
       "    <tr style=\"text-align: right;\">\n",
       "      <th></th>\n",
       "      <th>title</th>\n",
       "      <th>year</th>\n",
       "      <th>name</th>\n",
       "      <th>type</th>\n",
       "      <th>character</th>\n",
       "      <th>n</th>\n",
       "    </tr>\n",
       "  </thead>\n",
       "  <tbody>\n",
       "    <tr>\n",
       "      <th>485197</th>\n",
       "      <td>Dracula</td>\n",
       "      <td>1958</td>\n",
       "      <td>Peter Cushing</td>\n",
       "      <td>actor</td>\n",
       "      <td>Doctor Van Helsing</td>\n",
       "      <td>1.0</td>\n",
       "    </tr>\n",
       "    <tr>\n",
       "      <th>1242307</th>\n",
       "      <td>Dracula</td>\n",
       "      <td>1958</td>\n",
       "      <td>Christopher Lee</td>\n",
       "      <td>actor</td>\n",
       "      <td>Dracula</td>\n",
       "      <td>2.0</td>\n",
       "    </tr>\n",
       "    <tr>\n",
       "      <th>1242308</th>\n",
       "      <td>Dracula</td>\n",
       "      <td>1958</td>\n",
       "      <td>Christopher Lee</td>\n",
       "      <td>actor</td>\n",
       "      <td>Count Dracula</td>\n",
       "      <td>2.0</td>\n",
       "    </tr>\n",
       "    <tr>\n",
       "      <th>822398</th>\n",
       "      <td>Dracula</td>\n",
       "      <td>1958</td>\n",
       "      <td>Michael Gough</td>\n",
       "      <td>actor</td>\n",
       "      <td>Arthur</td>\n",
       "      <td>3.0</td>\n",
       "    </tr>\n",
       "    <tr>\n",
       "      <th>3410427</th>\n",
       "      <td>Dracula</td>\n",
       "      <td>1958</td>\n",
       "      <td>Melissa Stribling</td>\n",
       "      <td>actress</td>\n",
       "      <td>Mina</td>\n",
       "      <td>4.0</td>\n",
       "    </tr>\n",
       "    <tr>\n",
       "      <th>3069196</th>\n",
       "      <td>Dracula</td>\n",
       "      <td>1958</td>\n",
       "      <td>Carol Marsh</td>\n",
       "      <td>actress</td>\n",
       "      <td>Lucy</td>\n",
       "      <td>5.0</td>\n",
       "    </tr>\n",
       "    <tr>\n",
       "      <th>2677557</th>\n",
       "      <td>Dracula</td>\n",
       "      <td>1958</td>\n",
       "      <td>Olga Dickie</td>\n",
       "      <td>actress</td>\n",
       "      <td>Gerda</td>\n",
       "      <td>6.0</td>\n",
       "    </tr>\n",
       "    <tr>\n",
       "      <th>2220986</th>\n",
       "      <td>Dracula</td>\n",
       "      <td>1958</td>\n",
       "      <td>John Van Eyssen</td>\n",
       "      <td>actor</td>\n",
       "      <td>Jonathan</td>\n",
       "      <td>7.0</td>\n",
       "    </tr>\n",
       "    <tr>\n",
       "      <th>2777216</th>\n",
       "      <td>Dracula</td>\n",
       "      <td>1958</td>\n",
       "      <td>Valerie Gaunt</td>\n",
       "      <td>actress</td>\n",
       "      <td>Vampire Woman</td>\n",
       "      <td>8.0</td>\n",
       "    </tr>\n",
       "    <tr>\n",
       "      <th>2731182</th>\n",
       "      <td>Dracula</td>\n",
       "      <td>1958</td>\n",
       "      <td>Janina Faye</td>\n",
       "      <td>actress</td>\n",
       "      <td>Tania</td>\n",
       "      <td>9.0</td>\n",
       "    </tr>\n",
       "    <tr>\n",
       "      <th>2444220</th>\n",
       "      <td>Dracula</td>\n",
       "      <td>1958</td>\n",
       "      <td>Barbara Archer</td>\n",
       "      <td>actress</td>\n",
       "      <td>Inga</td>\n",
       "      <td>10.0</td>\n",
       "    </tr>\n",
       "    <tr>\n",
       "      <th>1285506</th>\n",
       "      <td>Dracula</td>\n",
       "      <td>1958</td>\n",
       "      <td>Charles Lloyd Pack</td>\n",
       "      <td>actor</td>\n",
       "      <td>Doctor Seward</td>\n",
       "      <td>11.0</td>\n",
       "    </tr>\n",
       "    <tr>\n",
       "      <th>1453367</th>\n",
       "      <td>Dracula</td>\n",
       "      <td>1958</td>\n",
       "      <td>George Merritt</td>\n",
       "      <td>actor</td>\n",
       "      <td>Policeman</td>\n",
       "      <td>12.0</td>\n",
       "    </tr>\n",
       "    <tr>\n",
       "      <th>2357769</th>\n",
       "      <td>Dracula</td>\n",
       "      <td>1958</td>\n",
       "      <td>George Woodbridge</td>\n",
       "      <td>actor</td>\n",
       "      <td>Landlord</td>\n",
       "      <td>13.0</td>\n",
       "    </tr>\n",
       "    <tr>\n",
       "      <th>171732</th>\n",
       "      <td>Dracula</td>\n",
       "      <td>1958</td>\n",
       "      <td>George Benson</td>\n",
       "      <td>actor</td>\n",
       "      <td>Official</td>\n",
       "      <td>14.0</td>\n",
       "    </tr>\n",
       "    <tr>\n",
       "      <th>1347640</th>\n",
       "      <td>Dracula</td>\n",
       "      <td>1958</td>\n",
       "      <td>Miles Malleson</td>\n",
       "      <td>actor</td>\n",
       "      <td>Undertaker</td>\n",
       "      <td>15.0</td>\n",
       "    </tr>\n",
       "    <tr>\n",
       "      <th>148496</th>\n",
       "      <td>Dracula</td>\n",
       "      <td>1958</td>\n",
       "      <td>Geoffrey Bayldon</td>\n",
       "      <td>actor</td>\n",
       "      <td>Porter</td>\n",
       "      <td>16.0</td>\n",
       "    </tr>\n",
       "    <tr>\n",
       "      <th>423307</th>\n",
       "      <td>Dracula</td>\n",
       "      <td>1958</td>\n",
       "      <td>Paul Cole</td>\n",
       "      <td>actor</td>\n",
       "      <td>Lad</td>\n",
       "      <td>17.0</td>\n",
       "    </tr>\n",
       "    <tr>\n",
       "      <th>1475047</th>\n",
       "      <td>Dracula</td>\n",
       "      <td>1958</td>\n",
       "      <td>Guy Mills</td>\n",
       "      <td>actor</td>\n",
       "      <td>Coach Driver</td>\n",
       "      <td>NaN</td>\n",
       "    </tr>\n",
       "    <tr>\n",
       "      <th>1513434</th>\n",
       "      <td>Dracula</td>\n",
       "      <td>1958</td>\n",
       "      <td>Richard (VIII) Morgan</td>\n",
       "      <td>actor</td>\n",
       "      <td>Coach Driver's Companion</td>\n",
       "      <td>NaN</td>\n",
       "    </tr>\n",
       "    <tr>\n",
       "      <th>1524497</th>\n",
       "      <td>Dracula</td>\n",
       "      <td>1958</td>\n",
       "      <td>John (II) Mossman</td>\n",
       "      <td>actor</td>\n",
       "      <td>Hearse Driver</td>\n",
       "      <td>NaN</td>\n",
       "    </tr>\n",
       "  </tbody>\n",
       "</table>\n",
       "</div>"
      ],
      "text/plain": [
       "           title  year                   name     type  \\\n",
       "485197   Dracula  1958          Peter Cushing    actor   \n",
       "1242307  Dracula  1958        Christopher Lee    actor   \n",
       "1242308  Dracula  1958        Christopher Lee    actor   \n",
       "822398   Dracula  1958          Michael Gough    actor   \n",
       "3410427  Dracula  1958      Melissa Stribling  actress   \n",
       "3069196  Dracula  1958            Carol Marsh  actress   \n",
       "2677557  Dracula  1958            Olga Dickie  actress   \n",
       "2220986  Dracula  1958        John Van Eyssen    actor   \n",
       "2777216  Dracula  1958          Valerie Gaunt  actress   \n",
       "2731182  Dracula  1958            Janina Faye  actress   \n",
       "2444220  Dracula  1958         Barbara Archer  actress   \n",
       "1285506  Dracula  1958     Charles Lloyd Pack    actor   \n",
       "1453367  Dracula  1958         George Merritt    actor   \n",
       "2357769  Dracula  1958      George Woodbridge    actor   \n",
       "171732   Dracula  1958          George Benson    actor   \n",
       "1347640  Dracula  1958         Miles Malleson    actor   \n",
       "148496   Dracula  1958       Geoffrey Bayldon    actor   \n",
       "423307   Dracula  1958              Paul Cole    actor   \n",
       "1475047  Dracula  1958              Guy Mills    actor   \n",
       "1513434  Dracula  1958  Richard (VIII) Morgan    actor   \n",
       "1524497  Dracula  1958      John (II) Mossman    actor   \n",
       "\n",
       "                        character     n  \n",
       "485197         Doctor Van Helsing   1.0  \n",
       "1242307                   Dracula   2.0  \n",
       "1242308             Count Dracula   2.0  \n",
       "822398                     Arthur   3.0  \n",
       "3410427                      Mina   4.0  \n",
       "3069196                      Lucy   5.0  \n",
       "2677557                     Gerda   6.0  \n",
       "2220986                  Jonathan   7.0  \n",
       "2777216             Vampire Woman   8.0  \n",
       "2731182                     Tania   9.0  \n",
       "2444220                      Inga  10.0  \n",
       "1285506             Doctor Seward  11.0  \n",
       "1453367                 Policeman  12.0  \n",
       "2357769                  Landlord  13.0  \n",
       "171732                   Official  14.0  \n",
       "1347640                Undertaker  15.0  \n",
       "148496                     Porter  16.0  \n",
       "423307                        Lad  17.0  \n",
       "1475047              Coach Driver   NaN  \n",
       "1513434  Coach Driver's Companion   NaN  \n",
       "1524497             Hearse Driver   NaN  "
      ]
     },
     "execution_count": 131,
     "metadata": {},
     "output_type": "execute_result"
    }
   ],
   "source": [
    "dracula = dfelenco[dfelenco['title']=='Dracula']\n",
    "year1958 = dracula[dracula['year']==1958]\n",
    "\n",
    "elenco = year1958.sort_values('n')\n",
    "elenco\n"
   ]
  },
  {
   "cell_type": "markdown",
   "metadata": {},
   "source": [
    "#### Cuantos papeles fueron listados en la pelicula \"The Wizard of Oz\" de 1939\n",
    "128"
   ]
  },
  {
   "cell_type": "code",
   "execution_count": 104,
   "metadata": {},
   "outputs": [
    {
     "data": {
      "text/plain": [
       "128"
      ]
     },
     "execution_count": 104,
     "metadata": {},
     "output_type": "execute_result"
    }
   ],
   "source": [
    "oz = dfelenco[(dfelenco['title']=='The Wizard of Oz')&(dfelenco['year']==1939)]\n",
    "\n",
    "len(oz['character'])"
   ]
  },
  {
   "cell_type": "markdown",
   "metadata": {},
   "source": [
    "#### Cuantos papeles de \"Bruce Wayne\" han sido hechos en la historia de las peliculas\n",
    "38"
   ]
  },
  {
   "cell_type": "code",
   "execution_count": 133,
   "metadata": {},
   "outputs": [
    {
     "data": {
      "text/plain": [
       "38"
      ]
     },
     "execution_count": 133,
     "metadata": {},
     "output_type": "execute_result"
    }
   ],
   "source": [
    "bruce = dfelenco[dfelenco['character']=='Bruce Wayne']\n",
    "len(bruce)"
   ]
  },
  {
   "cell_type": "markdown",
   "metadata": {},
   "source": [
    "#### Cuanta gente ah hecho el papel de \"Romeo\"\n",
    "219"
   ]
  },
  {
   "cell_type": "code",
   "execution_count": 36,
   "metadata": {},
   "outputs": [
    {
     "data": {
      "text/plain": [
       "219"
      ]
     },
     "execution_count": 36,
     "metadata": {},
     "output_type": "execute_result"
    }
   ],
   "source": [
    "romeo = (dfelenco['character']=='Romeo').sum()\n",
    "romeo"
   ]
  },
  {
   "cell_type": "markdown",
   "metadata": {},
   "source": [
    "#### Cuantos papeles ah hecho \"Robert De Niro\" en su carrera\n",
    "103"
   ]
  },
  {
   "cell_type": "code",
   "execution_count": 41,
   "metadata": {},
   "outputs": [
    {
     "data": {
      "text/plain": [
       "103"
      ]
     },
     "execution_count": 41,
     "metadata": {},
     "output_type": "execute_result"
    }
   ],
   "source": [
    "robert = (dfelenco['name']=='Robert De Niro').sum()\n",
    "robert"
   ]
  },
  {
   "cell_type": "markdown",
   "metadata": {},
   "source": [
    "#### Listado de papeles de soporte que tuvo el actor \"Charlton Heston\" en la decada de los 50's, ordenado por año\n"
   ]
  },
  {
   "cell_type": "code",
   "execution_count": 116,
   "metadata": {
    "scrolled": true
   },
   "outputs": [
    {
     "data": {
      "text/html": [
       "<div>\n",
       "<style scoped>\n",
       "    .dataframe tbody tr th:only-of-type {\n",
       "        vertical-align: middle;\n",
       "    }\n",
       "\n",
       "    .dataframe tbody tr th {\n",
       "        vertical-align: top;\n",
       "    }\n",
       "\n",
       "    .dataframe thead th {\n",
       "        text-align: right;\n",
       "    }\n",
       "</style>\n",
       "<table border=\"1\" class=\"dataframe\">\n",
       "  <thead>\n",
       "    <tr style=\"text-align: right;\">\n",
       "      <th></th>\n",
       "      <th>title</th>\n",
       "      <th>year</th>\n",
       "      <th>name</th>\n",
       "      <th>type</th>\n",
       "      <th>character</th>\n",
       "      <th>n</th>\n",
       "    </tr>\n",
       "  </thead>\n",
       "  <tbody>\n",
       "    <tr>\n",
       "      <th>944064</th>\n",
       "      <td>Julius Caesar</td>\n",
       "      <td>1950</td>\n",
       "      <td>Charlton Heston</td>\n",
       "      <td>actor</td>\n",
       "      <td>Antony</td>\n",
       "      <td>2.0</td>\n",
       "    </tr>\n",
       "    <tr>\n",
       "      <th>944067</th>\n",
       "      <td>Lucy Gallant</td>\n",
       "      <td>1955</td>\n",
       "      <td>Charlton Heston</td>\n",
       "      <td>actor</td>\n",
       "      <td>Casey Cole</td>\n",
       "      <td>2.0</td>\n",
       "    </tr>\n",
       "    <tr>\n",
       "      <th>944080</th>\n",
       "      <td>Ruby Gentry</td>\n",
       "      <td>1952</td>\n",
       "      <td>Charlton Heston</td>\n",
       "      <td>actor</td>\n",
       "      <td>Boake Tackman</td>\n",
       "      <td>2.0</td>\n",
       "    </tr>\n",
       "    <tr>\n",
       "      <th>944091</th>\n",
       "      <td>The Far Horizons</td>\n",
       "      <td>1955</td>\n",
       "      <td>Charlton Heston</td>\n",
       "      <td>actor</td>\n",
       "      <td>Lt. William Clark</td>\n",
       "      <td>2.0</td>\n",
       "    </tr>\n",
       "    <tr>\n",
       "      <th>944098</th>\n",
       "      <td>The Naked Jungle</td>\n",
       "      <td>1954</td>\n",
       "      <td>Charlton Heston</td>\n",
       "      <td>actor</td>\n",
       "      <td>Christopher Leiningen</td>\n",
       "      <td>2.0</td>\n",
       "    </tr>\n",
       "    <tr>\n",
       "      <th>944104</th>\n",
       "      <td>The President's Lady</td>\n",
       "      <td>1953</td>\n",
       "      <td>Charlton Heston</td>\n",
       "      <td>actor</td>\n",
       "      <td>President Andrew Jackson</td>\n",
       "      <td>2.0</td>\n",
       "    </tr>\n",
       "    <tr>\n",
       "      <th>944112</th>\n",
       "      <td>The Wreck of the Mary Deare</td>\n",
       "      <td>1959</td>\n",
       "      <td>Charlton Heston</td>\n",
       "      <td>actor</td>\n",
       "      <td>John Sands</td>\n",
       "      <td>2.0</td>\n",
       "    </tr>\n",
       "  </tbody>\n",
       "</table>\n",
       "</div>"
      ],
      "text/plain": [
       "                              title  year             name   type  \\\n",
       "944064                Julius Caesar  1950  Charlton Heston  actor   \n",
       "944067                 Lucy Gallant  1955  Charlton Heston  actor   \n",
       "944080                  Ruby Gentry  1952  Charlton Heston  actor   \n",
       "944091             The Far Horizons  1955  Charlton Heston  actor   \n",
       "944098             The Naked Jungle  1954  Charlton Heston  actor   \n",
       "944104         The President's Lady  1953  Charlton Heston  actor   \n",
       "944112  The Wreck of the Mary Deare  1959  Charlton Heston  actor   \n",
       "\n",
       "                       character    n  \n",
       "944064                    Antony  2.0  \n",
       "944067                Casey Cole  2.0  \n",
       "944080             Boake Tackman  2.0  \n",
       "944091         Lt. William Clark  2.0  \n",
       "944098     Christopher Leiningen  2.0  \n",
       "944104  President Andrew Jackson  2.0  \n",
       "944112                John Sands  2.0  "
      ]
     },
     "execution_count": 116,
     "metadata": {},
     "output_type": "execute_result"
    }
   ],
   "source": [
    "support = dfelenco[(dfelenco['name']=='Charlton Heston')&(dfelenco['year']>=1950)&(dfelenco['year']<=1959)&(dfelenco['n']==2.0)]\n",
    "support"
   ]
  },
  {
   "cell_type": "markdown",
   "metadata": {},
   "source": [
    "#### Listado de papeles como protagonista que tuvo el actor \"Charlton Heston\" en la decada de los 60's, ordenado por año de forma descendente\n"
   ]
  },
  {
   "cell_type": "code",
   "execution_count": 117,
   "metadata": {},
   "outputs": [
    {
     "data": {
      "text/html": [
       "<div>\n",
       "<style scoped>\n",
       "    .dataframe tbody tr th:only-of-type {\n",
       "        vertical-align: middle;\n",
       "    }\n",
       "\n",
       "    .dataframe tbody tr th {\n",
       "        vertical-align: top;\n",
       "    }\n",
       "\n",
       "    .dataframe thead th {\n",
       "        text-align: right;\n",
       "    }\n",
       "</style>\n",
       "<table border=\"1\" class=\"dataframe\">\n",
       "  <thead>\n",
       "    <tr style=\"text-align: right;\">\n",
       "      <th></th>\n",
       "      <th>title</th>\n",
       "      <th>year</th>\n",
       "      <th>name</th>\n",
       "      <th>type</th>\n",
       "      <th>character</th>\n",
       "      <th>n</th>\n",
       "    </tr>\n",
       "  </thead>\n",
       "  <tbody>\n",
       "    <tr>\n",
       "      <th>944038</th>\n",
       "      <td>55 Days at Peking</td>\n",
       "      <td>1963</td>\n",
       "      <td>Charlton Heston</td>\n",
       "      <td>actor</td>\n",
       "      <td>Maj. Matt Lewis</td>\n",
       "      <td>1.0</td>\n",
       "    </tr>\n",
       "    <tr>\n",
       "      <th>944050</th>\n",
       "      <td>Counterpoint</td>\n",
       "      <td>1967</td>\n",
       "      <td>Charlton Heston</td>\n",
       "      <td>actor</td>\n",
       "      <td>Lionel Evans</td>\n",
       "      <td>1.0</td>\n",
       "    </tr>\n",
       "    <tr>\n",
       "      <th>944052</th>\n",
       "      <td>Diamond Head</td>\n",
       "      <td>1962</td>\n",
       "      <td>Charlton Heston</td>\n",
       "      <td>actor</td>\n",
       "      <td>Richard 'King' Howland</td>\n",
       "      <td>1.0</td>\n",
       "    </tr>\n",
       "    <tr>\n",
       "      <th>944054</th>\n",
       "      <td>El Cid</td>\n",
       "      <td>1961</td>\n",
       "      <td>Charlton Heston</td>\n",
       "      <td>actor</td>\n",
       "      <td>El Cid Rodrigo de Vivar</td>\n",
       "      <td>1.0</td>\n",
       "    </tr>\n",
       "    <tr>\n",
       "      <th>944066</th>\n",
       "      <td>Khartoum</td>\n",
       "      <td>1966</td>\n",
       "      <td>Charlton Heston</td>\n",
       "      <td>actor</td>\n",
       "      <td>Gen. Charles 'Chinese' Gordon</td>\n",
       "      <td>1.0</td>\n",
       "    </tr>\n",
       "    <tr>\n",
       "      <th>944068</th>\n",
       "      <td>Major Dundee</td>\n",
       "      <td>1965</td>\n",
       "      <td>Charlton Heston</td>\n",
       "      <td>actor</td>\n",
       "      <td>Major Amos Charles Dundee</td>\n",
       "      <td>1.0</td>\n",
       "    </tr>\n",
       "    <tr>\n",
       "      <th>944074</th>\n",
       "      <td>Number One</td>\n",
       "      <td>1969</td>\n",
       "      <td>Charlton Heston</td>\n",
       "      <td>actor</td>\n",
       "      <td>Ron 'Cat' Catlan</td>\n",
       "      <td>1.0</td>\n",
       "    </tr>\n",
       "    <tr>\n",
       "      <th>944077</th>\n",
       "      <td>Planet of the Apes</td>\n",
       "      <td>1968</td>\n",
       "      <td>Charlton Heston</td>\n",
       "      <td>actor</td>\n",
       "      <td>George Taylor</td>\n",
       "      <td>1.0</td>\n",
       "    </tr>\n",
       "    <tr>\n",
       "      <th>944085</th>\n",
       "      <td>The Agony and the Ecstasy</td>\n",
       "      <td>1965</td>\n",
       "      <td>Charlton Heston</td>\n",
       "      <td>actor</td>\n",
       "      <td>Michelangelo</td>\n",
       "      <td>1.0</td>\n",
       "    </tr>\n",
       "    <tr>\n",
       "      <th>944101</th>\n",
       "      <td>The Pigeon That Took Rome</td>\n",
       "      <td>1962</td>\n",
       "      <td>Charlton Heston</td>\n",
       "      <td>actor</td>\n",
       "      <td>Captain Paul MacDougall</td>\n",
       "      <td>1.0</td>\n",
       "    </tr>\n",
       "    <tr>\n",
       "      <th>944102</th>\n",
       "      <td>The Pigeon That Took Rome</td>\n",
       "      <td>1962</td>\n",
       "      <td>Charlton Heston</td>\n",
       "      <td>actor</td>\n",
       "      <td>Benny the Snatch</td>\n",
       "      <td>1.0</td>\n",
       "    </tr>\n",
       "    <tr>\n",
       "      <th>944103</th>\n",
       "      <td>The Pigeon That Took Rome</td>\n",
       "      <td>1962</td>\n",
       "      <td>Charlton Heston</td>\n",
       "      <td>actor</td>\n",
       "      <td>Narrator</td>\n",
       "      <td>1.0</td>\n",
       "    </tr>\n",
       "    <tr>\n",
       "      <th>944111</th>\n",
       "      <td>The War Lord</td>\n",
       "      <td>1965</td>\n",
       "      <td>Charlton Heston</td>\n",
       "      <td>actor</td>\n",
       "      <td>Chrysagon</td>\n",
       "      <td>1.0</td>\n",
       "    </tr>\n",
       "    <tr>\n",
       "      <th>944120</th>\n",
       "      <td>Will Penny</td>\n",
       "      <td>1967</td>\n",
       "      <td>Charlton Heston</td>\n",
       "      <td>actor</td>\n",
       "      <td>Will Penny</td>\n",
       "      <td>1.0</td>\n",
       "    </tr>\n",
       "  </tbody>\n",
       "</table>\n",
       "</div>"
      ],
      "text/plain": [
       "                            title  year             name   type  \\\n",
       "944038          55 Days at Peking  1963  Charlton Heston  actor   \n",
       "944050               Counterpoint  1967  Charlton Heston  actor   \n",
       "944052               Diamond Head  1962  Charlton Heston  actor   \n",
       "944054                     El Cid  1961  Charlton Heston  actor   \n",
       "944066                   Khartoum  1966  Charlton Heston  actor   \n",
       "944068               Major Dundee  1965  Charlton Heston  actor   \n",
       "944074                 Number One  1969  Charlton Heston  actor   \n",
       "944077         Planet of the Apes  1968  Charlton Heston  actor   \n",
       "944085  The Agony and the Ecstasy  1965  Charlton Heston  actor   \n",
       "944101  The Pigeon That Took Rome  1962  Charlton Heston  actor   \n",
       "944102  The Pigeon That Took Rome  1962  Charlton Heston  actor   \n",
       "944103  The Pigeon That Took Rome  1962  Charlton Heston  actor   \n",
       "944111               The War Lord  1965  Charlton Heston  actor   \n",
       "944120                 Will Penny  1967  Charlton Heston  actor   \n",
       "\n",
       "                            character    n  \n",
       "944038                Maj. Matt Lewis  1.0  \n",
       "944050                   Lionel Evans  1.0  \n",
       "944052         Richard 'King' Howland  1.0  \n",
       "944054        El Cid Rodrigo de Vivar  1.0  \n",
       "944066  Gen. Charles 'Chinese' Gordon  1.0  \n",
       "944068      Major Amos Charles Dundee  1.0  \n",
       "944074               Ron 'Cat' Catlan  1.0  \n",
       "944077                  George Taylor  1.0  \n",
       "944085                   Michelangelo  1.0  \n",
       "944101        Captain Paul MacDougall  1.0  \n",
       "944102               Benny the Snatch  1.0  \n",
       "944103                       Narrator  1.0  \n",
       "944111                      Chrysagon  1.0  \n",
       "944120                     Will Penny  1.0  "
      ]
     },
     "execution_count": 117,
     "metadata": {},
     "output_type": "execute_result"
    }
   ],
   "source": [
    "support = dfelenco[(dfelenco['name']=='Charlton Heston')&(dfelenco['year']>=1960)&(dfelenco['year']<=1969)&(dfelenco['n']==1.0)]\n",
    "support\n"
   ]
  },
  {
   "cell_type": "code",
   "execution_count": null,
   "metadata": {},
   "outputs": [],
   "source": []
  },
  {
   "cell_type": "markdown",
   "metadata": {},
   "source": [
    "#### ¿Cuantos papeles para actores hubo en la decada de los 50's?\n",
    "153998"
   ]
  },
  {
   "cell_type": "code",
   "execution_count": 93,
   "metadata": {},
   "outputs": [
    {
     "data": {
      "text/plain": [
       "153998"
      ]
     },
     "execution_count": 93,
     "metadata": {},
     "output_type": "execute_result"
    }
   ],
   "source": [
    "actors = dfelenco[(dfelenco['type']=='actor')&(dfelenco['year']>1949)&(dfelenco['year']<1960)]\n",
    "len(actors)"
   ]
  },
  {
   "cell_type": "markdown",
   "metadata": {},
   "source": [
    "#### ¿Cuantos papeles para actrices hubo en la decada de los 50's ?\n",
    "56004"
   ]
  },
  {
   "cell_type": "code",
   "execution_count": 94,
   "metadata": {},
   "outputs": [
    {
     "data": {
      "text/plain": [
       "56004"
      ]
     },
     "execution_count": 94,
     "metadata": {},
     "output_type": "execute_result"
    }
   ],
   "source": [
    "actress = dfelenco[(dfelenco['type']=='actress')&(dfelenco['year']>1949)&(dfelenco['year']<1960)]\n",
    "len(actress)\n"
   ]
  },
  {
   "cell_type": "markdown",
   "metadata": {},
   "source": [
    "#### ¿Cuantos papeles protagonicos existen desde el principio de la historia filmatografica hasta 1970 ?\n",
    "51531"
   ]
  },
  {
   "cell_type": "code",
   "execution_count": 130,
   "metadata": {},
   "outputs": [
    {
     "data": {
      "text/plain": [
       "51531"
      ]
     },
     "execution_count": 130,
     "metadata": {},
     "output_type": "execute_result"
    }
   ],
   "source": [
    "len(dfelenco[(dfelenco['n']==1.0)&(dfelenco['year']<=1970)])"
   ]
  },
  {
   "cell_type": "code",
   "execution_count": null,
   "metadata": {},
   "outputs": [],
   "source": []
  }
 ],
 "metadata": {
  "kernelspec": {
   "display_name": "Python 3 (ipykernel)",
   "language": "python",
   "name": "python3"
  },
  "language_info": {
   "codemirror_mode": {
    "name": "ipython",
    "version": 3
   },
   "file_extension": ".py",
   "mimetype": "text/x-python",
   "name": "python",
   "nbconvert_exporter": "python",
   "pygments_lexer": "ipython3",
   "version": "3.10.9"
  },
  "toc": {
   "base_numbering": 1,
   "nav_menu": {},
   "number_sections": true,
   "sideBar": true,
   "skip_h1_title": false,
   "title_cell": "Table of Contents",
   "title_sidebar": "Contents",
   "toc_cell": false,
   "toc_position": {},
   "toc_section_display": true,
   "toc_window_display": true
  },
  "varInspector": {
   "cols": {
    "lenName": 16,
    "lenType": 16,
    "lenVar": 40
   },
   "kernels_config": {
    "python": {
     "delete_cmd_postfix": "",
     "delete_cmd_prefix": "del ",
     "library": "var_list.py",
     "varRefreshCmd": "print(var_dic_list())"
    },
    "r": {
     "delete_cmd_postfix": ") ",
     "delete_cmd_prefix": "rm(",
     "library": "var_list.r",
     "varRefreshCmd": "cat(var_dic_list()) "
    }
   },
   "types_to_exclude": [
    "module",
    "function",
    "builtin_function_or_method",
    "instance",
    "_Feature"
   ],
   "window_display": false
  }
 },
 "nbformat": 4,
 "nbformat_minor": 1
}
