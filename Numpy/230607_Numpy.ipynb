{
 "cells": [
  {
   "cell_type": "code",
   "execution_count": 1,
   "id": "9cd35fbf",
   "metadata": {},
   "outputs": [],
   "source": [
    "import numpy as np\n"
   ]
  },
  {
   "cell_type": "code",
   "execution_count": null,
   "id": "69c54297",
   "metadata": {},
   "outputs": [],
   "source": [
    "x = np.array([1,2,3,4,5])"
   ]
  },
  {
   "cell_type": "code",
   "execution_count": null,
   "id": "805b854d",
   "metadata": {},
   "outputs": [],
   "source": [
    "x"
   ]
  },
  {
   "cell_type": "markdown",
   "id": "db5fe1e4",
   "metadata": {},
   "source": [
    "type(x)"
   ]
  },
  {
   "cell_type": "code",
   "execution_count": null,
   "id": "be26c180",
   "metadata": {},
   "outputs": [],
   "source": [
    "x.ndim"
   ]
  },
  {
   "cell_type": "code",
   "execution_count": null,
   "id": "59fd3e74",
   "metadata": {},
   "outputs": [],
   "source": [
    "x.size"
   ]
  },
  {
   "cell_type": "code",
   "execution_count": null,
   "id": "b52a4864",
   "metadata": {},
   "outputs": [],
   "source": [
    "x.shape"
   ]
  },
  {
   "cell_type": "code",
   "execution_count": null,
   "id": "eef04399",
   "metadata": {},
   "outputs": [],
   "source": [
    "x.dtype"
   ]
  },
  {
   "cell_type": "code",
   "execution_count": null,
   "id": "f3c0a1f5",
   "metadata": {},
   "outputs": [],
   "source": [
    "x = np.array([4, 'Einstein', 1e-7])"
   ]
  },
  {
   "cell_type": "code",
   "execution_count": null,
   "id": "aefaeac9",
   "metadata": {},
   "outputs": [],
   "source": [
    "x"
   ]
  },
  {
   "cell_type": "code",
   "execution_count": null,
   "id": "fa5a95ba",
   "metadata": {},
   "outputs": [],
   "source": [
    "x.dtype"
   ]
  },
  {
   "cell_type": "code",
   "execution_count": null,
   "id": "ce821a78",
   "metadata": {},
   "outputs": [],
   "source": [
    "a = np.array(range(10))"
   ]
  },
  {
   "cell_type": "code",
   "execution_count": null,
   "id": "eeae2a75",
   "metadata": {},
   "outputs": [],
   "source": [
    "a"
   ]
  },
  {
   "cell_type": "code",
   "execution_count": null,
   "id": "2183ce2a",
   "metadata": {},
   "outputs": [],
   "source": [
    "b = np.array(range(10), dtype='int64')"
   ]
  },
  {
   "cell_type": "code",
   "execution_count": null,
   "id": "6c1ecd4b",
   "metadata": {},
   "outputs": [],
   "source": [
    "b"
   ]
  },
  {
   "cell_type": "code",
   "execution_count": null,
   "id": "4cacaee7",
   "metadata": {},
   "outputs": [],
   "source": [
    "c = b.astype(float)"
   ]
  },
  {
   "cell_type": "code",
   "execution_count": null,
   "id": "9e39b7d6",
   "metadata": {},
   "outputs": [],
   "source": [
    "c"
   ]
  },
  {
   "cell_type": "code",
   "execution_count": null,
   "id": "de6881ad",
   "metadata": {},
   "outputs": [],
   "source": [
    "d = np.array(range(10), dtype='float64')"
   ]
  },
  {
   "cell_type": "code",
   "execution_count": null,
   "id": "8cc678cf",
   "metadata": {},
   "outputs": [],
   "source": [
    "d"
   ]
  },
  {
   "cell_type": "code",
   "execution_count": null,
   "id": "536d34f6",
   "metadata": {},
   "outputs": [],
   "source": [
    "arr_as_list = list(range(int(10e6)))"
   ]
  },
  {
   "cell_type": "code",
   "execution_count": null,
   "id": "4fdab18a",
   "metadata": {},
   "outputs": [],
   "source": [
    "arr_as_ndarray =np.array(arr_as_list)"
   ]
  },
  {
   "cell_type": "code",
   "execution_count": null,
   "id": "f2798d04",
   "metadata": {},
   "outputs": [],
   "source": [
    "%timeit sum(arr_as_list)"
   ]
  },
  {
   "cell_type": "code",
   "execution_count": null,
   "id": "9311a7e6",
   "metadata": {},
   "outputs": [],
   "source": [
    "%timeit arr_as_ndarray.sum()"
   ]
  },
  {
   "cell_type": "code",
   "execution_count": null,
   "id": "3d1d4708",
   "metadata": {},
   "outputs": [],
   "source": [
    "a = np.array({10,20,30})"
   ]
  },
  {
   "cell_type": "code",
   "execution_count": null,
   "id": "cf802b4b",
   "metadata": {},
   "outputs": [],
   "source": [
    "a"
   ]
  },
  {
   "cell_type": "markdown",
   "id": "bb57ac80",
   "metadata": {},
   "source": [
    "### Revisar !!!!!!!!!!!!!!!!!!!!!!!!!!!!!!11"
   ]
  },
  {
   "cell_type": "code",
   "execution_count": null,
   "id": "8655ef32",
   "metadata": {},
   "outputs": [],
   "source": [
    "b = a.tolist()"
   ]
  },
  {
   "cell_type": "code",
   "execution_count": null,
   "id": "5feabf87",
   "metadata": {},
   "outputs": [],
   "source": [
    "b"
   ]
  },
  {
   "cell_type": "code",
   "execution_count": null,
   "id": "b47de650",
   "metadata": {},
   "outputs": [],
   "source": [
    "type(b)"
   ]
  },
  {
   "cell_type": "code",
   "execution_count": null,
   "id": "b295c2fa",
   "metadata": {},
   "outputs": [],
   "source": [
    "type(a)"
   ]
  },
  {
   "cell_type": "code",
   "execution_count": null,
   "id": "64e4a16f",
   "metadata": {},
   "outputs": [],
   "source": [
    "m = np.array([[1,2,3], [4,5,6], [7,8,9], [10,11,12]])"
   ]
  },
  {
   "cell_type": "code",
   "execution_count": null,
   "id": "28f3bde9",
   "metadata": {},
   "outputs": [],
   "source": [
    "m"
   ]
  },
  {
   "cell_type": "code",
   "execution_count": null,
   "id": "0bbd9d9d",
   "metadata": {},
   "outputs": [],
   "source": [
    "m.ndim"
   ]
  },
  {
   "cell_type": "code",
   "execution_count": null,
   "id": "595f3adb",
   "metadata": {},
   "outputs": [],
   "source": [
    "m.shape"
   ]
  },
  {
   "cell_type": "code",
   "execution_count": null,
   "id": "6be7022f",
   "metadata": {},
   "outputs": [],
   "source": [
    "m.size"
   ]
  },
  {
   "cell_type": "code",
   "execution_count": null,
   "id": "c2939144",
   "metadata": {},
   "outputs": [],
   "source": [
    "m.dtype"
   ]
  },
  {
   "cell_type": "code",
   "execution_count": null,
   "id": "d622b893",
   "metadata": {},
   "outputs": [],
   "source": [
    "a = np.array([1,2,3,4,5,6,7,8,9,10,11,12])"
   ]
  },
  {
   "cell_type": "code",
   "execution_count": null,
   "id": "af66f410",
   "metadata": {},
   "outputs": [],
   "source": [
    "a"
   ]
  },
  {
   "cell_type": "code",
   "execution_count": null,
   "id": "98af50e9",
   "metadata": {},
   "outputs": [],
   "source": [
    "np.reshape(a,(3,4))"
   ]
  },
  {
   "cell_type": "code",
   "execution_count": null,
   "id": "8998ace1",
   "metadata": {},
   "outputs": [],
   "source": [
    "np.reshape(a,(6,-1)) # 6 filas"
   ]
  },
  {
   "cell_type": "code",
   "execution_count": null,
   "id": "157adffd",
   "metadata": {},
   "outputs": [],
   "source": [
    "np.reshape(a,(-1,3)) # 3 columnas"
   ]
  },
  {
   "cell_type": "code",
   "execution_count": null,
   "id": "51311214",
   "metadata": {},
   "outputs": [],
   "source": [
    "np.zeros((3,4))"
   ]
  },
  {
   "cell_type": "code",
   "execution_count": null,
   "id": "c2d117e1",
   "metadata": {},
   "outputs": [],
   "source": [
    "np.zeros((3,4),dtype=int)"
   ]
  },
  {
   "cell_type": "code",
   "execution_count": null,
   "id": "369f8413",
   "metadata": {},
   "outputs": [],
   "source": [
    "M = np.array([[1,2,3],[4,5,6]])"
   ]
  },
  {
   "cell_type": "code",
   "execution_count": null,
   "id": "7ed5e3bf",
   "metadata": {},
   "outputs": [],
   "source": [
    "M"
   ]
  },
  {
   "cell_type": "code",
   "execution_count": null,
   "id": "2f76ee52",
   "metadata": {},
   "outputs": [],
   "source": [
    "M.shape"
   ]
  },
  {
   "cell_type": "code",
   "execution_count": null,
   "id": "c62ee8c0",
   "metadata": {},
   "outputs": [],
   "source": [
    "np.zeros_like(M)"
   ]
  },
  {
   "cell_type": "code",
   "execution_count": null,
   "id": "777fcbf5",
   "metadata": {},
   "outputs": [],
   "source": [
    "np.ones_like(M)"
   ]
  },
  {
   "cell_type": "code",
   "execution_count": null,
   "id": "2f694d6f",
   "metadata": {},
   "outputs": [],
   "source": [
    "np.full((3,4),7)"
   ]
  },
  {
   "cell_type": "code",
   "execution_count": null,
   "id": "6a87a395",
   "metadata": {},
   "outputs": [],
   "source": [
    "np.eye(5)"
   ]
  },
  {
   "cell_type": "code",
   "execution_count": null,
   "id": "04dc5d04",
   "metadata": {},
   "outputs": [],
   "source": [
    "np.diag([5,4,3,2,1])"
   ]
  },
  {
   "cell_type": "code",
   "execution_count": null,
   "id": "9df152fe",
   "metadata": {},
   "outputs": [],
   "source": [
    "np.arange(21)"
   ]
  },
  {
   "cell_type": "code",
   "execution_count": null,
   "id": "ddd2c0a5",
   "metadata": {},
   "outputs": [],
   "source": [
    "np.arange(6,49,.5) # el .5 es el step"
   ]
  },
  {
   "cell_type": "code",
   "execution_count": null,
   "id": "f799b5f0",
   "metadata": {},
   "outputs": [],
   "source": [
    "np.linspace(6,60)"
   ]
  },
  {
   "cell_type": "code",
   "execution_count": null,
   "id": "10624ec4",
   "metadata": {},
   "outputs": [],
   "source": [
    "np.linspace(6,20,20)"
   ]
  },
  {
   "cell_type": "code",
   "execution_count": null,
   "id": "f389c68e",
   "metadata": {},
   "outputs": [],
   "source": [
    "np.linspace(6,20,20, endpoint=False)"
   ]
  },
  {
   "cell_type": "code",
   "execution_count": null,
   "id": "3a7d650a",
   "metadata": {},
   "outputs": [],
   "source": [
    "np.random.randint(3,30)"
   ]
  },
  {
   "cell_type": "code",
   "execution_count": null,
   "id": "f0850b63",
   "metadata": {},
   "outputs": [],
   "source": [
    "np.random.randint(3,30, size=9) # vector"
   ]
  },
  {
   "cell_type": "code",
   "execution_count": null,
   "id": "4be80d35",
   "metadata": {},
   "outputs": [],
   "source": [
    "np.random.randint(3,30, size=(3,3))"
   ]
  },
  {
   "cell_type": "code",
   "execution_count": null,
   "id": "30dc4acf",
   "metadata": {},
   "outputs": [],
   "source": [
    "np.random.random(9)"
   ]
  },
  {
   "cell_type": "code",
   "execution_count": null,
   "id": "bc20d8dc",
   "metadata": {},
   "outputs": [],
   "source": [
    "np.random.uniform(3,30, size=9)"
   ]
  },
  {
   "cell_type": "code",
   "execution_count": null,
   "id": "8cc14791",
   "metadata": {},
   "outputs": [],
   "source": [
    "coins = np.random.choice(['head', 'tail'], size=1_000_000)"
   ]
  },
  {
   "cell_type": "code",
   "execution_count": null,
   "id": "428b6b88",
   "metadata": {},
   "outputs": [],
   "source": [
    "coins"
   ]
  },
  {
   "cell_type": "code",
   "execution_count": null,
   "id": "97873b34",
   "metadata": {},
   "outputs": [],
   "source": [
    "dices = np.random.choice(range(1,7), size=1_000_000, p=[.5,.1,.1,.1,.1,.1]) # probabilidad de que salga un número"
   ]
  },
  {
   "cell_type": "code",
   "execution_count": null,
   "id": "0ad6fb12",
   "metadata": {},
   "outputs": [],
   "source": [
    "dices"
   ]
  },
  {
   "cell_type": "code",
   "execution_count": null,
   "id": "c0154fde",
   "metadata": {},
   "outputs": [],
   "source": []
  },
  {
   "cell_type": "code",
   "execution_count": null,
   "id": "0cc83d75",
   "metadata": {},
   "outputs": [],
   "source": [
    "np.inf\n",
    "\n"
   ]
  },
  {
   "cell_type": "code",
   "execution_count": null,
   "id": "a005a4a9",
   "metadata": {},
   "outputs": [],
   "source": [
    "np.nan"
   ]
  },
  {
   "cell_type": "code",
   "execution_count": null,
   "id": "d6bf086f",
   "metadata": {},
   "outputs": [],
   "source": [
    "a = ([1,2,3,4,5,6,7,8,9])"
   ]
  },
  {
   "cell_type": "code",
   "execution_count": null,
   "id": "dda86638",
   "metadata": {},
   "outputs": [],
   "source": [
    "a = np.append(values[16])"
   ]
  },
  {
   "cell_type": "code",
   "execution_count": null,
   "id": "542d8a54",
   "metadata": {},
   "outputs": [],
   "source": [
    "a = np.array([[1,2,3,4],\n",
    "              [5,6,7,8],\n",
    "              [9,10,11,12]])\n",
    "a[0:1]"
   ]
  },
  {
   "cell_type": "code",
   "execution_count": null,
   "id": "eda0367a",
   "metadata": {},
   "outputs": [],
   "source": []
  },
  {
   "cell_type": "code",
   "execution_count": null,
   "id": "bc04eede",
   "metadata": {},
   "outputs": [],
   "source": []
  },
  {
   "cell_type": "code",
   "execution_count": null,
   "id": "aead669c",
   "metadata": {},
   "outputs": [],
   "source": []
  },
  {
   "cell_type": "code",
   "execution_count": null,
   "id": "7e794bf4",
   "metadata": {},
   "outputs": [],
   "source": []
  },
  {
   "cell_type": "code",
   "execution_count": null,
   "id": "03aea705",
   "metadata": {},
   "outputs": [],
   "source": []
  },
  {
   "cell_type": "code",
   "execution_count": null,
   "id": "89ab146c",
   "metadata": {},
   "outputs": [],
   "source": []
  },
  {
   "cell_type": "code",
   "execution_count": null,
   "id": "efc8e116",
   "metadata": {},
   "outputs": [],
   "source": []
  }
 ],
 "metadata": {
  "kernelspec": {
   "display_name": "Python 3 (ipykernel)",
   "language": "python",
   "name": "python3"
  },
  "language_info": {
   "codemirror_mode": {
    "name": "ipython",
    "version": 3
   },
   "file_extension": ".py",
   "mimetype": "text/x-python",
   "name": "python",
   "nbconvert_exporter": "python",
   "pygments_lexer": "ipython3",
   "version": "3.10.9"
  },
  "toc": {
   "base_numbering": 1,
   "nav_menu": {},
   "number_sections": true,
   "sideBar": true,
   "skip_h1_title": false,
   "title_cell": "Table of Contents",
   "title_sidebar": "Contents",
   "toc_cell": false,
   "toc_position": {},
   "toc_section_display": true,
   "toc_window_display": false
  }
 },
 "nbformat": 4,
 "nbformat_minor": 5
}
