{
 "cells": [
  {
   "cell_type": "markdown",
   "id": "7cd266f8",
   "metadata": {},
   "source": [
    "## Ejercicio 1:\n",
    "##### Dado un tensor de 2 dimensiones, intercambia las filas 2 y 4.\n",
    "\n"
   ]
  },
  {
   "cell_type": "code",
   "execution_count": 2,
   "id": "c7afd946",
   "metadata": {},
   "outputs": [],
   "source": [
    "import numpy as np"
   ]
  },
  {
   "cell_type": "code",
   "execution_count": 3,
   "id": "e79d5bc5",
   "metadata": {},
   "outputs": [
    {
     "name": "stdout",
     "output_type": "stream",
     "text": [
      "[[ 1  2  3]\n",
      " [10 11 12]\n",
      " [ 7  8  9]\n",
      " [ 4  5  6]]\n"
     ]
    }
   ],
   "source": [
    "# Tensor de ejemplo\n",
    "tensor = np.array([[1, 2, 3],\n",
    "                   [4, 5, 6],\n",
    "                   [7, 8, 9],\n",
    "                   [10, 11, 12]])\n",
    "\n",
    "# Intercambiar filas 2 y 4\n",
    "tensor[[1, 3]] = tensor[[3, 1]]\n",
    "\n",
    "print(tensor)"
   ]
  },
  {
   "cell_type": "markdown",
   "id": "dfceb03b",
   "metadata": {},
   "source": [
    "## Ejercicio 2:\n",
    "### Dado un tensor de 3 dimensiones, obtén el subtensor formado por las filas 2 y 3 de la matriz 1 y las columnas 1 y 3 de la matriz 2.\n"
   ]
  },
  {
   "cell_type": "code",
   "execution_count": 6,
   "id": "0000de78",
   "metadata": {
    "code_folding": []
   },
   "outputs": [
    {
     "name": "stdout",
     "output_type": "stream",
     "text": [
      "[[4 7]\n",
      " [6 9]]\n"
     ]
    }
   ],
   "source": [
    "# Tensor de ejemplo\n",
    "tensor = np.array([[[1, 2, 3],\n",
    "                    [4, 5, 6],\n",
    "                    [7, 8, 9]],\n",
    "\n",
    "                   [[10, 11, 12],\n",
    "                    [13, 14, 15],\n",
    "                    [16, 17, 18]],\n",
    "\n",
    "                   [[19, 20, 21],\n",
    "                    [22, 23, 24],\n",
    "                    [25, 26, 27]]])\n",
    "\n",
    "# Obtener el subtensor deseado\n",
    "subtensor = tensor[0, 1:3, [0, 2]]\n",
    "\n",
    "print(subtensor)"
   ]
  },
  {
   "cell_type": "markdown",
   "id": "67a4e74a",
   "metadata": {},
   "source": [
    "## Ejercicio 3:\n",
    "### Dado un tensor de 4 dimensiones, selecciona los elementos en la posición (0, 1, 1, 2) y (2, 3, 0, 1)."
   ]
  },
  {
   "cell_type": "code",
   "execution_count": 15,
   "id": "3e732935",
   "metadata": {},
   "outputs": [
    {
     "name": "stdout",
     "output_type": "stream",
     "text": [
      "8\n",
      "14\n"
     ]
    }
   ],
   "source": [
    "\n",
    "# Tensor de ejemplo\n",
    "tensor = np.array([[[[1, 2],\n",
    "                     [3, 4]],\n",
    "\n",
    "                    [[5, 6],\n",
    "                     [7, 8]]],\n",
    "\n",
    "                   [[[9, 10],\n",
    "                     [11, 12]],\n",
    "\n",
    "                    [[13, 14],\n",
    "                     [15, 16]]]])\n",
    "\n",
    "# Selección de elementos\n",
    "# elementos = tensor[[0, 2], 1, 1, [2, 1]]\n",
    "elementos = tensor[0,1,1,1]\n",
    "elemento2 = tensor[1,1,0,1]\n",
    "\n",
    "print(elementos)\n",
    "print(elemento2)"
   ]
  },
  {
   "cell_type": "code",
   "execution_count": null,
   "id": "e8c8ec34",
   "metadata": {},
   "outputs": [],
   "source": []
  }
 ],
 "metadata": {
  "kernelspec": {
   "display_name": "Python 3 (ipykernel)",
   "language": "python",
   "name": "python3"
  },
  "language_info": {
   "codemirror_mode": {
    "name": "ipython",
    "version": 3
   },
   "file_extension": ".py",
   "mimetype": "text/x-python",
   "name": "python",
   "nbconvert_exporter": "python",
   "pygments_lexer": "ipython3",
   "version": "3.10.9"
  },
  "toc": {
   "base_numbering": 1,
   "nav_menu": {},
   "number_sections": true,
   "sideBar": true,
   "skip_h1_title": false,
   "title_cell": "Table of Contents",
   "title_sidebar": "Contents",
   "toc_cell": false,
   "toc_position": {},
   "toc_section_display": true,
   "toc_window_display": false
  }
 },
 "nbformat": 4,
 "nbformat_minor": 5
}
