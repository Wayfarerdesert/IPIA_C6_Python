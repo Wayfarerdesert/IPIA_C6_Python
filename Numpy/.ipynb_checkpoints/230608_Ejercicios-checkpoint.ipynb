{
 "cells": [
  {
   "cell_type": "markdown",
   "id": "e5746cdb",
   "metadata": {},
   "source": [
    "## Ejercicio 1:\n",
    "##### Dado un tensor de 2 dimensiones, intercambia las filas 2 y 4.\n",
    "\n"
   ]
  },
  {
   "cell_type": "code",
   "execution_count": 2,
   "id": "743b0ca7",
   "metadata": {},
   "outputs": [],
   "source": [
    "import numpy as np"
   ]
  },
  {
   "cell_type": "code",
   "execution_count": 3,
   "id": "b8aa2558",
   "metadata": {},
   "outputs": [
    {
     "name": "stdout",
     "output_type": "stream",
     "text": [
      "[[ 1  2  3]\n",
      " [10 11 12]\n",
      " [ 7  8  9]\n",
      " [ 4  5  6]]\n"
     ]
    }
   ],
   "source": [
    "# Tensor de ejemplo\n",
    "tensor = np.array([[1, 2, 3],\n",
    "                   [4, 5, 6],\n",
    "                   [7, 8, 9],\n",
    "                   [10, 11, 12]])\n",
    "\n",
    "# Intercambiar filas 2 y 4\n",
    "tensor[[1, 3]] = tensor[[3, 1]]\n",
    "\n",
    "print(tensor)"
   ]
  },
  {
   "cell_type": "markdown",
   "id": "fae77c79",
   "metadata": {},
   "source": [
    "## Ejercicio 2:\n",
    "### Dado un tensor de 3 dimensiones, obtén el subtensor formado por las filas 2 y 3 de la matriz 1 y las columnas 1 y 3 de la matriz 2.\n"
   ]
  },
  {
   "cell_type": "code",
   "execution_count": 6,
   "id": "0eb1945d",
   "metadata": {},
   "outputs": [
    {
     "name": "stdout",
     "output_type": "stream",
     "text": [
      "[[4 7]\n",
      " [6 9]]\n"
     ]
    }
   ],
   "source": [
    "# Tensor de ejemplo\n",
    "tensor = np.array([[[1, 2, 3],\n",
    "                    [4, 5, 6],\n",
    "                    [7, 8, 9]],\n",
    "\n",
    "                   [[10, 11, 12],\n",
    "                    [13, 14, 15],\n",
    "                    [16, 17, 18]],\n",
    "\n",
    "                   [[19, 20, 21],\n",
    "                    [22, 23, 24],\n",
    "                    [25, 26, 27]]])\n",
    "\n",
    "# Obtener el subtensor deseado\n",
    "subtensor = tensor[0, 1:3, [0, 2]]\n",
    "\n",
    "print(subtensor)"
   ]
  },
  {
   "cell_type": "markdown",
   "id": "19f740f7",
   "metadata": {},
   "source": [
    "## Ejercicio 3:\n",
    "### Dado un tensor de 4 dimensiones, selecciona los elementos en la posición (0, 1, 1, 2) y (2, 3, 0, 1)."
   ]
  },
  {
   "cell_type": "code",
   "execution_count": 9,
   "id": "762a8689",
   "metadata": {},
   "outputs": [
    {
     "ename": "IndexError",
     "evalue": "index 2 is out of bounds for axis 0 with size 2",
     "output_type": "error",
     "traceback": [
      "\u001b[0;31m---------------------------------------------------------------------------\u001b[0m",
      "\u001b[0;31mIndexError\u001b[0m                                Traceback (most recent call last)",
      "Cell \u001b[0;32mIn[9], line 15\u001b[0m\n\u001b[1;32m      2\u001b[0m tensor \u001b[38;5;241m=\u001b[39m np\u001b[38;5;241m.\u001b[39marray([[[[\u001b[38;5;241m1\u001b[39m, \u001b[38;5;241m2\u001b[39m],\n\u001b[1;32m      3\u001b[0m                      [\u001b[38;5;241m3\u001b[39m, \u001b[38;5;241m4\u001b[39m]],\n\u001b[1;32m      4\u001b[0m \n\u001b[0;32m   (...)\u001b[0m\n\u001b[1;32m     11\u001b[0m                     [[\u001b[38;5;241m13\u001b[39m, \u001b[38;5;241m14\u001b[39m],\n\u001b[1;32m     12\u001b[0m                      [\u001b[38;5;241m15\u001b[39m, \u001b[38;5;241m16\u001b[39m]]]])\n\u001b[1;32m     14\u001b[0m \u001b[38;5;66;03m# Selección de elementos\u001b[39;00m\n\u001b[0;32m---> 15\u001b[0m elementos \u001b[38;5;241m=\u001b[39m \u001b[43mtensor\u001b[49m\u001b[43m[\u001b[49m\u001b[43m[\u001b[49m\u001b[38;5;241;43m0\u001b[39;49m\u001b[43m,\u001b[49m\u001b[43m \u001b[49m\u001b[38;5;241;43m2\u001b[39;49m\u001b[43m]\u001b[49m\u001b[43m,\u001b[49m\u001b[43m \u001b[49m\u001b[38;5;241;43m1\u001b[39;49m\u001b[43m,\u001b[49m\u001b[43m \u001b[49m\u001b[38;5;241;43m1\u001b[39;49m\u001b[43m,\u001b[49m\u001b[43m \u001b[49m\u001b[43m[\u001b[49m\u001b[38;5;241;43m2\u001b[39;49m\u001b[43m,\u001b[49m\u001b[43m \u001b[49m\u001b[38;5;241;43m1\u001b[39;49m\u001b[43m]\u001b[49m\u001b[43m]\u001b[49m\n\u001b[1;32m     17\u001b[0m \u001b[38;5;28mprint\u001b[39m(elementos)\n",
      "\u001b[0;31mIndexError\u001b[0m: index 2 is out of bounds for axis 0 with size 2"
     ]
    }
   ],
   "source": [
    "\n",
    "# Tensor de ejemplo\n",
    "tensor = np.array([[[[1, 2],\n",
    "                     [3, 4]],\n",
    "\n",
    "                    [[5, 6],\n",
    "                     [7, 8]]],\n",
    "\n",
    "                   [[[9, 10],\n",
    "                     [11, 12]],\n",
    "\n",
    "                    [[13, 14],\n",
    "                     [15, 16]]]])\n",
    "\n",
    "# Selección de elementos\n",
    "elementos = tensor[[0, 2], 1, 1, [2, 1]]\n",
    "\n",
    "print(elementos)"
   ]
  },
  {
   "cell_type": "code",
   "execution_count": null,
   "id": "5aadd68b",
   "metadata": {},
   "outputs": [],
   "source": []
  }
 ],
 "metadata": {
  "kernelspec": {
   "display_name": "Python 3 (ipykernel)",
   "language": "python",
   "name": "python3"
  },
  "language_info": {
   "codemirror_mode": {
    "name": "ipython",
    "version": 3
   },
   "file_extension": ".py",
   "mimetype": "text/x-python",
   "name": "python",
   "nbconvert_exporter": "python",
   "pygments_lexer": "ipython3",
   "version": "3.10.9"
  },
  "toc": {
   "base_numbering": 1,
   "nav_menu": {},
   "number_sections": true,
   "sideBar": true,
   "skip_h1_title": false,
   "title_cell": "Table of Contents",
   "title_sidebar": "Contents",
   "toc_cell": false,
   "toc_position": {},
   "toc_section_display": true,
   "toc_window_display": false
  }
 },
 "nbformat": 4,
 "nbformat_minor": 5
}
