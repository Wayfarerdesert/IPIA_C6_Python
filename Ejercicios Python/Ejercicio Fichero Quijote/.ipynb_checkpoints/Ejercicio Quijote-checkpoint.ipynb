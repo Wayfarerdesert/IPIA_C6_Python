{
 "cells": [
  {
   "cell_type": "code",
   "execution_count": 13,
   "id": "5d24098c",
   "metadata": {},
   "outputs": [],
   "source": [
    "f = open('el_quijote.txt')"
   ]
  },
  {
   "cell_type": "code",
   "execution_count": 12,
   "id": "07c89ac6",
   "metadata": {},
   "outputs": [
    {
     "name": "stdout",
     "output_type": "stream",
     "text": [
      "El quijote tiene 187018 palabras.\n"
     ]
    }
   ],
   "source": [
    "# Ejercicio 1\n",
    "# numero de palabras\n",
    "\n",
    "with open('el_quijote.txt', 'r', encoding='utf-8') as f:\n",
    "    contenido = f.read()\n",
    "\n",
    "    palabras = contenido.split()\n",
    "    numWords = len(palabras)\n",
    "\n",
    "print(f'El quijote tiene {numWords} palabras.')"
   ]
  },
  {
   "cell_type": "code",
   "execution_count": 13,
   "id": "1db760d2",
   "metadata": {},
   "outputs": [
    {
     "name": "stdout",
     "output_type": "stream",
     "text": [
      "El quijote tiene 2186 líneas.\n"
     ]
    }
   ],
   "source": [
    "# Ejercicio 2\n",
    "# Encontrar el numero de lineas\n",
    "with open('el_quijote.txt', 'r', encoding='utf-8') as f:\n",
    "    num_lineas = sum(1 for _ in f)\n",
    "    \n",
    "print(f\"El quijote tiene {num_lineas} líneas.\")   "
   ]
  },
  {
   "cell_type": "code",
   "execution_count": 14,
   "id": "f3f1b883",
   "metadata": {},
   "outputs": [
    {
     "name": "stdout",
     "output_type": "stream",
     "text": [
      "La palabra más larga en el Quijote es: \"extraordinariamente\", con 19 letras.\n",
      "La palabra más corta en el Quijote es: \"1\", con 1 letra.\n"
     ]
    }
   ],
   "source": [
    "# Ejercicio 3\n",
    "# Crear una tabla de traducción para reemplazar los signos por espacios\n",
    "# Encontrar la palabra más larga en el archivo:\n",
    "import string\n",
    "\n",
    "with open('el_quijote.txt', 'r', encoding='utf-8') as f:\n",
    "    content = f.read()\n",
    "    \n",
    "signos = string.punctuation    \n",
    "tradTable = str.maketrans(signos, ' ' * len(signos))\n",
    "    \n",
    "    \n",
    "content = content.translate(tradTable)\n",
    "words = content.split()\n",
    "\n",
    "longWord = max(words, key=len)\n",
    "maxLetters = len(longWord)\n",
    "\n",
    "shortWord = min(words, key=len)\n",
    "minLetters = len(shortWord)\n",
    "\n",
    "print(f'La palabra más larga en el Quijote es: \"{longWord}\", con {maxLetters} letras.\\nLa palabra más corta en el Quijote es: \"{shortWord}\", con {minLetters} letra.')\n",
    "    \n",
    "    \n",
    "    \n"
   ]
  },
  {
   "cell_type": "code",
   "execution_count": 15,
   "id": "d60493ba",
   "metadata": {},
   "outputs": [
    {
     "name": "stdout",
     "output_type": "stream",
     "text": [
      "Se encontraron 76 líneas que contienen la palabra Dulcinea.\n",
      "Se encontraron 494 líneas que contienen la palabra Sancho.\n",
      "Se encontraron 91 líneas que contienen la palabra Rocinante.\n"
     ]
    }
   ],
   "source": [
    "# Ejercicio 4\n",
    "# Encontrar las líneas que contienen la palabra:\n",
    "\n",
    "with open('el_quijote.txt', 'r', encoding='utf-8') as f:\n",
    "    content = f.read()\n",
    "\n",
    "word1 = 'Dulcinea'\n",
    "word2 = 'Sancho'\n",
    "word3 = 'Rocinante'\n",
    "\n",
    "line1 = []\n",
    "line2 = []\n",
    "line3 = []\n",
    "\n",
    "lines = content.splitlines()\n",
    "for i in lines:\n",
    "    i = i.strip()\n",
    "    if word1 in i:\n",
    "        line1.append(i)\n",
    "    if word2 in i:\n",
    "        line2.append(i)\n",
    "    if word3 in i:\n",
    "        line3.append(i)\n",
    "\n",
    "        \n",
    "print(f'Se encontraron {len(line1)} líneas que contienen la palabra {word1}.')\n",
    "print(f'Se encontraron {len(line2)} líneas que contienen la palabra {word2}.')\n",
    "print(f'Se encontraron {len(line3)} líneas que contienen la palabra {word3}.')"
   ]
  },
  {
   "cell_type": "code",
   "execution_count": 16,
   "id": "b3c35c12",
   "metadata": {},
   "outputs": [
    {
     "name": "stdout",
     "output_type": "stream",
     "text": [
      "El quijote tiene 15601 palabras distintas.\n"
     ]
    }
   ],
   "source": [
    "# Ejercicio 5\n",
    "# Contar el número de palabras distintas en el archivo:\n",
    "\n",
    "# El archivo contiene 15601 palabras distintas.\n",
    "\n",
    "import string\n",
    "\n",
    "sign = string.punctuation\n",
    "tradTable = str.maketrans(sign, ' ' * len(sign))\n",
    "\n",
    "with open('el_quijote.txt', 'r', encoding='utf-8') as f:\n",
    "    content = f.read()\n",
    "    content = content.translate(tradTable)\n",
    "    words = content.split()\n",
    "    new = set(words)\n",
    "    \n",
    "print(f'El quijote tiene {len(new)} palabras distintas.')"
   ]
  },
  {
   "cell_type": "code",
   "execution_count": 17,
   "id": "a175560c",
   "metadata": {},
   "outputs": [
    {
     "name": "stdout",
     "output_type": "stream",
     "text": [
      "Las palabras mas frecuentes son: \n",
      "\n",
      "- que: 10689 veces\n",
      "\n",
      "- de: 8953 veces\n",
      "\n",
      "- y: 8219 veces\n",
      "\n",
      "- la: 4942 veces\n",
      "\n",
      "- a: 4726 veces\n",
      "\n",
      "- en: 3884 veces\n",
      "\n",
      "- el: 3733 veces\n",
      "\n",
      "- no: 2857 veces\n",
      "\n",
      "- se: 2382 veces\n",
      "\n",
      "- los: 2123 veces\n",
      "\n",
      "- con: 2025 veces\n",
      "\n",
      "- por: 1882 veces\n",
      "\n",
      "- su: 1856 veces\n",
      "\n",
      "- le: 1806 veces\n",
      "\n",
      "- lo: 1780 veces\n",
      "\n",
      "- las: 1473 veces\n",
      "\n",
      "- me: 1154 veces\n",
      "\n",
      "- como: 1139 veces\n",
      "\n",
      "- del: 1113 veces\n",
      "\n",
      "- es: 1008 veces\n",
      "\n",
      "- más: 962 veces\n",
      "\n",
      "- si: 922 veces\n",
      "\n",
      "- yo: 895 veces\n",
      "\n",
      "- un: 894 veces\n",
      "\n",
      "- mi: 876 veces\n",
      "\n",
      "- Quijote: 809 veces\n",
      "\n",
      "- dijo: 805 veces\n",
      "\n",
      "- al: 801 veces\n",
      "\n",
      "- tan: 750 veces\n",
      "\n",
      "- él: 745 veces\n",
      "\n"
     ]
    }
   ],
   "source": [
    "# Ejercicio 6\n",
    "#Encontrar las palabras que aparecen con mayor frecuencia en el archivo:\n",
    "import string\n",
    "from collections import Counter\n",
    "\n",
    "with open('el_quijote.txt', 'r', encoding='utf-8') as f:\n",
    "    content = f.read()\n",
    "\n",
    "sign = str.maketrans(string.punctuation, ' ' * len(string.punctuation))\n",
    "text = content.translate(sign)\n",
    "word = text.split()\n",
    "wordCount = Counter(word)\n",
    "mostUsed = wordCount.most_common(30)\n",
    "    \n",
    "\n",
    "print('Las palabras mas frecuentes son: \\n')\n",
    "for word, count in mostUsed:\n",
    "    print(f'- {word}: {count} veces\\n')"
   ]
  },
  {
   "cell_type": "code",
   "execution_count": 18,
   "id": "65e1f871",
   "metadata": {},
   "outputs": [
    {
     "name": "stdout",
     "output_type": "stream",
     "text": [
      "Número de apariciones de cada letra en el quijote:\n",
      "- \n",
      ": 2186 veces.\n",
      "- !: 222 veces.\n",
      "- \": 46 veces.\n",
      "- ': 12 veces.\n",
      "- (: 71 veces.\n",
      "- ): 71 veces.\n",
      "- ,: 18393 veces.\n",
      "- -: 1575 veces.\n",
      "- .: 3634 veces.\n",
      "- 0: 6 veces.\n",
      "- 1: 16 veces.\n",
      "- 2: 16 veces.\n",
      "- 3: 16 veces.\n",
      "- 4: 16 veces.\n",
      "- 5: 8 veces.\n",
      "- 6: 5 veces.\n",
      "- 7: 5 veces.\n",
      "- 8: 5 veces.\n",
      "- 9: 6 veces.\n",
      "- :: 818 veces.\n",
      "- ;: 2468 veces.\n",
      "- <: 2 veces.\n",
      "- ?: 446 veces.\n",
      "- [: 5 veces.\n",
      "- ]: 5 veces.\n",
      "- a: 99486 veces.\n",
      "- b: 12085 veces.\n",
      "- c: 28909 veces.\n",
      "- d: 42272 veces.\n",
      "- e: 112784 veces.\n",
      "- f: 3955 veces.\n",
      "- g: 8192 veces.\n",
      "- h: 9527 veces.\n",
      "- i: 43698 veces.\n",
      "- j: 4832 veces.\n",
      "- k: 1 veces.\n",
      "- l: 43952 veces.\n",
      "- m: 22123 veces.\n",
      "- n: 54315 veces.\n",
      "- o: 78751 veces.\n",
      "- p: 17230 veces.\n",
      "- q: 16354 veces.\n",
      "- r: 49082 veces.\n",
      "- s: 60076 veces.\n",
      "- t: 30724 veces.\n",
      "- u: 39656 veces.\n",
      "- v: 8664 veces.\n",
      "- w: 1 veces.\n",
      "- x: 210 veces.\n",
      "- y: 11984 veces.\n",
      "- z: 3158 veces.\n",
      "- ¡: 226 veces.\n",
      "- «: 45 veces.\n",
      "- »: 42 veces.\n",
      "- ¿: 449 veces.\n",
      "- ̀: 1 veces.\n",
      "- ́: 18482 veces.\n",
      "- ̃: 1837 veces.\n",
      "- ̈: 36 veces.\n",
      "- –: 366 veces.\n",
      "- ‘: 2 veces.\n",
      "- ’: 2 veces.\n",
      "- “: 1 veces.\n",
      "- ”: 1 veces.\n"
     ]
    }
   ],
   "source": [
    "# Ejercicio 7\n",
    "#Contar el número de apariciones de cada letra en el archivo:\n",
    "import string\n",
    "from collections import Counter\n",
    "\n",
    "with open('el_quijote.txt', 'r', encoding='utf-8') as f:\n",
    "    content = f.read()\n",
    "    content = content.lower()\n",
    "    content = content.replace(' ', '')\n",
    "    \n",
    "    total = Counter(content)\n",
    "    order = sorted(total.items())\n",
    "    \n",
    "    \n",
    "print('Número de apariciones de cada letra en el quijote:')\n",
    "for i, x in order:\n",
    "    print(f'- {i}: {x} veces.')"
   ]
  },
  {
   "cell_type": "code",
   "execution_count": 19,
   "id": "bfcc29b3",
   "metadata": {},
   "outputs": [],
   "source": [
    "# Ejercicio 8\n",
    "# Escribir los resultados en un nuevo archivo\n",
    "\n",
    "with open('resultados.txt', 'w', encoding='utf-8') as f:\n",
    "    f.write(f'RESULTADOS Ejercicio Fichero Quijote!!!!\\n')\n",
    "    f.write(f'\\nEl quijote tiene {numWords} palabras.\\n')\n",
    "    f.write(f'\\nEl quijote tiene {num_lineas} líneas.\\n')\n",
    "    f.write(f'\\nEl quijote tiene {len(words)} palabras distintas.\\n')\n",
    "    f.write(f'\\nLa palabra más larga en el Quijote es: \"{longWord}\", con {maxLetters} letras.\\nLa palabra más corta en el Quijote es: \"{shortWord}\", con {minLetters} letra.\\n')\n",
    "    f.write(f'\\nSe encontraron {len(line1)} líneas que contienen la palabra {word1}.\\n')\n",
    "    f.write(f'Se encontraron {len(line2)} líneas que contienen la palabra {word2}.\\n')\n",
    "    f.write(f'Se encontraron {len(line3)} líneas que contienen la palabra {word3}.\\n')\n",
    "    f.write(f'\\nLas palabras más frecuentes son:')\n",
    "    for word, count in mostUsed:\n",
    "        f.write(f'- {word}: {count} veces\\n')\n",
    "        \n",
    "    f.write(f'\\nNúmero de apariciones de cada letra en el quijote:\\n')\n",
    "    for i, x in order:\n",
    "        f.write(f'- {i}: {x} veces.\\n')\n",
    "\n",
    "    "
   ]
  },
  {
   "cell_type": "code",
   "execution_count": null,
   "id": "bad5596f",
   "metadata": {},
   "outputs": [],
   "source": []
  }
 ],
 "metadata": {
  "kernelspec": {
   "display_name": "Python 3 (ipykernel)",
   "language": "python",
   "name": "python3"
  },
  "language_info": {
   "codemirror_mode": {
    "name": "ipython",
    "version": 3
   },
   "file_extension": ".py",
   "mimetype": "text/x-python",
   "name": "python",
   "nbconvert_exporter": "python",
   "pygments_lexer": "ipython3",
   "version": "3.10.9"
  }
 },
 "nbformat": 4,
 "nbformat_minor": 5
}
