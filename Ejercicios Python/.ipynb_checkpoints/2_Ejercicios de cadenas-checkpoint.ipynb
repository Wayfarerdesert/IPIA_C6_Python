{
 "cells": [
  {
   "cell_type": "code",
   "execution_count": 13,
   "id": "2eacc28b",
   "metadata": {},
   "outputs": [
    {
     "name": "stdout",
     "output_type": "stream",
     "text": [
      "como te llamas?: jaja \n",
      "dime un numero?: 5\n",
      "jaja \n",
      "jaja \n",
      "jaja \n",
      "jaja \n",
      "jaja \n"
     ]
    }
   ],
   "source": [
    "\"\"\"Ejercicio 1\"\"\"\n",
    "name = input(\"como te llamas?: \")\n",
    "number = int(input(\"dime un numero?: \"))\n",
    "\n",
    "\n",
    "print(*[name] * number, sep='\\n')"
   ]
  },
  {
   "cell_type": "code",
   "execution_count": 19,
   "id": "75bb098a",
   "metadata": {},
   "outputs": [
    {
     "name": "stdout",
     "output_type": "stream",
     "text": [
      "tu nombre: NDFGNDIFGFD\n",
      "tu apellido: kfdksdfsdkf\n",
      "NDFGNDIFGFD KFDKSDFSDKF\n",
      "Ndfgndifgfd Kfdksdfsdkf\n",
      "\n"
     ]
    }
   ],
   "source": [
    "\"\"\"Ejercicio 2\"\"\"\n",
    "name = input(\"tu nombre: \")\n",
    "surname = input(\"tu apellido: \")\n",
    "\n",
    "fullname = name + \" \" + surname + '\\n'\n",
    "\n",
    "print(fullname.upper()+fullname.title())\n"
   ]
  },
  {
   "cell_type": "code",
   "execution_count": 21,
   "id": "ba2853ac",
   "metadata": {},
   "outputs": [
    {
     "name": "stdout",
     "output_type": "stream",
     "text": [
      "tu nombre: pepe sando\n",
      "PEPE SANDO tiene 10 letras.\n"
     ]
    }
   ],
   "source": [
    "\"\"\"Ejercicio 3\"\"\"\n",
    "\n",
    "name = input(\"tu nombre: \")\n",
    "n = str(len(name))\n",
    "\n",
    "print(name.upper()+ \" tiene \" + n +  \" letras.\")"
   ]
  },
  {
   "cell_type": "code",
   "execution_count": 23,
   "id": "1af5014f",
   "metadata": {},
   "outputs": [
    {
     "name": "stdout",
     "output_type": "stream",
     "text": [
      "Ingrese un número de teléfono en el formato +34-XXXXXXXX-XX: +34-23443452-11\n",
      "Número de teléfono sin prefijo ni extensión: 23443452\n"
     ]
    }
   ],
   "source": [
    "# Ejercicio 4\n",
    "telefono = input(\"Ingrese un número de teléfono en el formato +34-XXXXXXXX-XX: \")\n",
    "\n",
    "partes = telefono.split('-')\n",
    "\n",
    "numero = partes[1]\n",
    "\n",
    "print(\"Número de teléfono sin prefijo ni extensión:\", numero)\n",
    "\n"
   ]
  },
  {
   "cell_type": "code",
   "execution_count": 29,
   "id": "aa359695",
   "metadata": {},
   "outputs": [
    {
     "name": "stdout",
     "output_type": "stream",
     "text": [
      "¿que estas pensando?: mensaje de prueba\n",
      "abeurp ed ejasnem\n"
     ]
    }
   ],
   "source": [
    "# Ejercicio 5\n",
    "\n",
    "frase = input(\"¿que estas pensando?: \")\n",
    "\n",
    "print(frase[::-1])\n"
   ]
  },
  {
   "cell_type": "code",
   "execution_count": 30,
   "id": "cdd9db75",
   "metadata": {},
   "outputs": [
    {
     "name": "stdout",
     "output_type": "stream",
     "text": [
      "Dime una frase: pepito tenia un chanchito\n",
      "Dime una vocal: o\n",
      "pepitO tenia un chanchitO\n"
     ]
    }
   ],
   "source": [
    "# Ejercicio 6\n",
    "\n",
    "frase = input(\"Dime una frase: \")\n",
    "vocal = input(\"Dime una vocal: \")\n",
    "\n",
    "print(frase.replace(vocal, vocal.upper()))\n"
   ]
  },
  {
   "cell_type": "code",
   "execution_count": 34,
   "id": "57ef82b4",
   "metadata": {},
   "outputs": [
    {
     "name": "stdout",
     "output_type": "stream",
     "text": [
      "tu correo electronico: pepito@pepito.es\n",
      "pepito@cue.es\n"
     ]
    }
   ],
   "source": [
    "# Ejercicio 7\n",
    "email = input(\"tu@correo.electronico: \")\n",
    "emailTwo = email.split(\"@\")\n",
    "\n",
    "print(emailTwo[0]+\"@cue.es\")\n",
    "\n"
   ]
  },
  {
   "cell_type": "code",
   "execution_count": 39,
   "id": "e875e124",
   "metadata": {},
   "outputs": [
    {
     "name": "stdout",
     "output_type": "stream",
     "text": [
      "¿cuanto cuesta tu producto? 56.56\n",
      "el precio es: 56$ con 56 centimos.\n"
     ]
    }
   ],
   "source": [
    "# Ejercicio 8 \n",
    "price = input(\"¿cuanto cuesta tu producto? \")\n",
    "value = price.split(\".\")\n",
    "print(\"el precio es: \" + value[0] + \"€ con \" + value[1] + \" centimos.\")"
   ]
  },
  {
   "cell_type": "code",
   "execution_count": 40,
   "id": "8003e056",
   "metadata": {},
   "outputs": [
    {
     "name": "stdout",
     "output_type": "stream",
     "text": [
      "la fecha de su nacimiento en formato dd/mm/aaaa23/45/1230\n",
      "23/45/1230\n"
     ]
    }
   ],
   "source": [
    "# Ejercicio 9\n",
    "date = input('la fecha de su nacimiento en formato dd/mm/aaaa')\n",
    "print('Naciste el día:' date)"
   ]
  },
  {
   "cell_type": "code",
   "execution_count": 2,
   "id": "5d40e444",
   "metadata": {},
   "outputs": [
    {
     "name": "stdout",
     "output_type": "stream",
     "text": [
      "¿que has comprado (separados por coma)? jamon, queso\n",
      "jamon\n",
      " queso\n"
     ]
    }
   ],
   "source": [
    "# Ejercicio 10\n",
    "compra = input(\"¿que has comprado (separados por coma)? \")\n",
    "\n",
    "productos = compra.split(',')\n",
    "\n",
    "print('\\n'.join(productos))"
   ]
  },
  {
   "cell_type": "code",
   "execution_count": 9,
   "id": "05e8a3a8",
   "metadata": {},
   "outputs": [
    {
     "name": "stdout",
     "output_type": "stream",
     "text": [
      "¿que has comprado? te\n",
      "¿cuanto costó? 5\n",
      "¿cuantos te has comprado? 10\n",
      "Compraste:  10.00 unidades de te, el costo Total fue:   50.00\n"
     ]
    }
   ],
   "source": [
    "# Ejercicio 11\n",
    "tuCompra = input(\"¿que has comprado? \")\n",
    "precio = float(input(\"¿cuanto costó? \"))\n",
    "unidades = float(input(\"¿cuantos \" + tuCompra + \" has comprado? \"))\n",
    "costoTotal = precio * unidades\n",
    "\n",
    "print(\"Compraste: {:6.2f} unidades de {}, el costo Total fue:{:8.2f}\".format(unidades, tuCompra, costoTotal))\n"
   ]
  },
  {
   "cell_type": "code",
   "execution_count": null,
   "id": "20352085",
   "metadata": {},
   "outputs": [],
   "source": []
  },
  {
   "cell_type": "code",
   "execution_count": null,
   "id": "c9015629",
   "metadata": {},
   "outputs": [],
   "source": []
  }
 ],
 "metadata": {
  "kernelspec": {
   "display_name": "Python 3 (ipykernel)",
   "language": "python",
   "name": "python3"
  },
  "language_info": {
   "codemirror_mode": {
    "name": "ipython",
    "version": 3
   },
   "file_extension": ".py",
   "mimetype": "text/x-python",
   "name": "python",
   "nbconvert_exporter": "python",
   "pygments_lexer": "ipython3",
   "version": "3.10.9"
  }
 },
 "nbformat": 4,
 "nbformat_minor": 5
}
