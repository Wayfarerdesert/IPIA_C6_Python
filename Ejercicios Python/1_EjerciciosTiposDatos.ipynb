{
 "cells": [
  {
   "cell_type": "code",
   "execution_count": 1,
   "id": "e7e3d720",
   "metadata": {},
   "outputs": [
    {
     "name": "stdout",
     "output_type": "stream",
     "text": [
      "Hola mundo\n"
     ]
    }
   ],
   "source": [
    "print(\"Hola mundo\")"
   ]
  },
  {
   "cell_type": "code",
   "execution_count": 10,
   "id": "3165970f",
   "metadata": {},
   "outputs": [
    {
     "name": "stdout",
     "output_type": "stream",
     "text": [
      "Hola Mundo\n"
     ]
    }
   ],
   "source": [
    "mi_programa = (\"Hola Mundo\")\n",
    "print(mi_programa)"
   ]
  },
  {
   "cell_type": "code",
   "execution_count": 11,
   "id": "08a1cdec",
   "metadata": {},
   "outputs": [
    {
     "name": "stdout",
     "output_type": "stream",
     "text": [
      "como te llamas: ?kkk\n"
     ]
    },
    {
     "data": {
      "text/plain": [
       "'¡Hola kkk!'"
      ]
     },
     "execution_count": 11,
     "metadata": {},
     "output_type": "execute_result"
    }
   ],
   "source": [
    "name = input(\"como te llamas: ?\")\n",
    "wellcome=(\"¡Hola \" + name + \"!\")\n",
    "wellcome"
   ]
  },
  {
   "cell_type": "code",
   "execution_count": 12,
   "id": "a9334f91",
   "metadata": {},
   "outputs": [
    {
     "data": {
      "text/plain": [
       "4.0"
      ]
     },
     "execution_count": 12,
     "metadata": {},
     "output_type": "execute_result"
    }
   ],
   "source": [
    "op = ((3+2)/2.5)**2\n",
    "op"
   ]
  },
  {
   "cell_type": "code",
   "execution_count": 15,
   "id": "6da3fa2d",
   "metadata": {},
   "outputs": [
    {
     "name": "stdout",
     "output_type": "stream",
     "text": [
      "¿Cuantas horas has trabajado hoy? 56\n",
      "¿Cuanto cuesta tu hora de trabajo? 56\n",
      "tu paga es:$3136\n"
     ]
    }
   ],
   "source": [
    "workedHours= int(input(\"¿Cuantas horas has trabajado hoy? \"))\n",
    "hoursCost= int(input(\"¿Cuanto cuesta tu hora de trabajo? \"))\n",
    "payment=str(workedHours*hoursCost)\n",
    "print(\"tu paga es:\" + \"$\" + payment)"
   ]
  },
  {
   "cell_type": "code",
   "execution_count": 2,
   "id": "d086d9c9",
   "metadata": {},
   "outputs": [
    {
     "name": "stdout",
     "output_type": "stream",
     "text": [
      "Dime un numero entero: 5\n"
     ]
    },
    {
     "data": {
      "text/plain": [
       "15.0"
      ]
     },
     "execution_count": 2,
     "metadata": {},
     "output_type": "execute_result"
    }
   ],
   "source": [
    "n = int(input(\"Dime un numero entero: \"))\n",
    "suma=n*(n+1)/2\n",
    "suma"
   ]
  },
  {
   "cell_type": "code",
   "execution_count": 8,
   "id": "d2bf8ed2",
   "metadata": {},
   "outputs": [
    {
     "name": "stdout",
     "output_type": "stream",
     "text": [
      "Cuanto pesas? en kg: 80\n",
      "Tu Estatura en m? 1.86\n",
      "Tu indice de masa corporal es: 23.12\n"
     ]
    }
   ],
   "source": [
    "weight=int(input(\"Cuanto pesas? en kg: \"))\n",
    "height=float(input(\"Tu Estatura en m? \"))\n",
    "imc= str(round(weight/(height**2),2))\n",
    "print(\"Tu indice de masa corporal es: \" + imc)"
   ]
  },
  {
   "cell_type": "code",
   "execution_count": 13,
   "id": "9044cbcd",
   "metadata": {},
   "outputs": [
    {
     "name": "stdout",
     "output_type": "stream",
     "text": [
      "Dime un numero entero: 8\n",
      "Dime otro numero entero: 4\n",
      "8 entre 4 da un cociente 2 y un resto 0.\n"
     ]
    }
   ],
   "source": [
    "n1= str(int(input(\"Dime un numero entero: \")))\n",
    "n2= str(int(input(\"Dime otro numero entero: \")))\n",
    "c = str(int(n1) // int(n2))\n",
    "r = str(int(n1) % int(n2))\n",
    "\n",
    "print(n1 + \" entre \" + n2 + \" da un cociente \" + c + \" y un resto \" + r + \".\")"
   ]
  },
  {
   "cell_type": "code",
   "execution_count": 18,
   "id": "5fb6e18a",
   "metadata": {},
   "outputs": [
    {
     "name": "stdout",
     "output_type": "stream",
     "text": [
      "Cantidad a invertir?: 50\n",
      "Interes anual ideal?: 6\n",
      "por cuantos años?: 10\n",
      "el capital obtenido en la invversión es: 89.54238482714273\n"
     ]
    }
   ],
   "source": [
    "investment=float(input(\"Cantidad a invertir?: \"))\n",
    "anualInterest= float(input(\"Interes anual ideal?: \"))\n",
    "years= float(input(\"por cuantos años?: \"))\n",
    "\n",
    "earnings=str(investment * (1+ anualInterest / 100 ) ** years)\n",
    "\n",
    "print(\"E capital obtenido en la invversión es: \" + earnings)\n",
    "\n"
   ]
  },
  {
   "cell_type": "code",
   "execution_count": 23,
   "id": "1806e090",
   "metadata": {},
   "outputs": [
    {
     "name": "stdout",
     "output_type": "stream",
     "text": [
      "cantidad de muñecas vendidas?: 5\n",
      "cantidad de payasos vendidos?: 15\n",
      "El peso total del paquete que será enviado es de: 2.0549999999999997 kg.\n"
     ]
    }
   ],
   "source": [
    "clown=0.112\n",
    "doll=0.075\n",
    "\n",
    "soldDolls=int((input(\"cantidad de muñecas vendidas?: \")))\n",
    "soldClowns=int((input(\"cantidad de payasos vendidos?: \")))\n",
    "\n",
    "total=str((soldDolls*doll)+(soldClowns*clown))\n",
    "\n",
    "print(\"El peso total del paquete que será enviado es de: \" + total + \" kg.\")"
   ]
  },
  {
   "cell_type": "code",
   "execution_count": 27,
   "id": "e03fa3b3",
   "metadata": {},
   "outputs": [
    {
     "name": "stdout",
     "output_type": "stream",
     "text": [
      "Cuanto dinero tienes depositado en la cuenta? 456484\n",
      "Saldo después del primer año: 474743.36\n",
      "Saldo después del segundo año: 493733.09\n",
      "Saldo después del tercer año: 513482.42\n"
     ]
    }
   ],
   "source": [
    "userDeposit=float(input(\"Cuanto dinero tienes depositado en la cuenta? \"))\n",
    "interest= 0.04\n",
    "balance1=userDeposit*(1+interest)\n",
    "balance2=balance1*(1+interest)\n",
    "balance3=balance2*(1+interest)\n",
    "\n",
    "balance1 = round(balance1, 2)\n",
    "balance2 = round(balance2, 2)\n",
    "balance3 = round(balance3, 2)\n",
    "\n",
    "print(\"Saldo después del primer año:\", balance1)\n",
    "print(\"Saldo después del segundo año:\", balance2)\n",
    "print(\"Saldo después del tercer año:\", balance3)"
   ]
  },
  {
   "cell_type": "code",
   "execution_count": 39,
   "id": "8a685d1c",
   "metadata": {},
   "outputs": [
    {
     "name": "stdout",
     "output_type": "stream",
     "text": [
      "cuantas barras de pan que no son del día se vendieron hoy? 20\n",
      "El total es 69.8$ con el descuento del 60% que se le hace por no ser fresca el coste final es 41.88$.\n"
     ]
    }
   ],
   "source": [
    "sells=float(input(\"cuantas barras de pan que no son del día se vendieron hoy? \"))\n",
    "\n",
    "breadUnit=3.49\n",
    "discount= 60\n",
    "\n",
    "total=round((sells*breadUnit), 2)\n",
    "totalDiscount=round((total * discount / 100), 2)\n",
    "\n",
    "print(\"El total es \" + str(total) + \"$ con el descuento del 60% que se le hace por no ser fresca el coste final es \" + str(totalDiscount) + \"$.\")\n"
   ]
  },
  {
   "cell_type": "code",
   "execution_count": null,
   "id": "8e129a15",
   "metadata": {},
   "outputs": [],
   "source": []
  }
 ],
 "metadata": {
  "kernelspec": {
   "display_name": "Python 3 (ipykernel)",
   "language": "python",
   "name": "python3"
  },
  "language_info": {
   "codemirror_mode": {
    "name": "ipython",
    "version": 3
   },
   "file_extension": ".py",
   "mimetype": "text/x-python",
   "name": "python",
   "nbconvert_exporter": "python",
   "pygments_lexer": "ipython3",
   "version": "3.10.9"
  }
 },
 "nbformat": 4,
 "nbformat_minor": 5
}
