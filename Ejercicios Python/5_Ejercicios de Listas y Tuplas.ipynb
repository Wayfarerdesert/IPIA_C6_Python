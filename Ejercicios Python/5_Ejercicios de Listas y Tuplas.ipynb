{
 "cells": [
  {
   "cell_type": "markdown",
   "id": "18959e25",
   "metadata": {},
   "source": [
    "### Ejercicios que faltan: \n",
    "- Ejercicio 4\n",
    "- Ejercicio 6\n",
    "- Ejercicio 11\n",
    "- Ejercicio 12"
   ]
  },
  {
   "cell_type": "code",
   "execution_count": 4,
   "id": "3a4f164b",
   "metadata": {},
   "outputs": [
    {
     "name": "stdout",
     "output_type": "stream",
     "text": [
      "Asignaturas del curso:\n",
      "matemáticas\n",
      "historia\n",
      "física\n",
      "lengua\n",
      "geografía\n"
     ]
    }
   ],
   "source": [
    "# Ejercicio 1\n",
    "\n",
    "asignaturas = ['matemáticas', 'historia', 'física', 'lengua', 'geografía']\n",
    "\n",
    "print('Asignaturas del curso:')\n",
    "for a in asignaturas:\n",
    "    print(a)\n"
   ]
  },
  {
   "cell_type": "code",
   "execution_count": 3,
   "id": "891de082",
   "metadata": {},
   "outputs": [
    {
     "name": "stdout",
     "output_type": "stream",
     "text": [
      "Yo estudio matemáticas\n",
      "Yo estudio historia\n",
      "Yo estudio física\n",
      "Yo estudio lengua\n",
      "Yo estudio geografía\n",
      "Yo estudio Qímica\n"
     ]
    }
   ],
   "source": [
    "# Ejercicio 2\n",
    "asignaturas = ['matemáticas', 'historia', 'física', 'lengua', 'geografía', 'Qímica']\n",
    "\n",
    "for a in asignaturas:\n",
    "    print('Yo estudio ' + a)\n",
    "\n"
   ]
  },
  {
   "cell_type": "code",
   "execution_count": 8,
   "id": "fe1ab56e",
   "metadata": {},
   "outputs": [
    {
     "name": "stdout",
     "output_type": "stream",
     "text": [
      "¿que nota has sacado en matemáticas? 5\n",
      "En matemáticashas sacado: 5\n",
      "¿que nota has sacado en historia? 5\n",
      "En historiahas sacado: 5\n",
      "¿que nota has sacado en física? 4\n",
      "En físicahas sacado: 4\n",
      "¿que nota has sacado en lengua? 3\n",
      "En lenguahas sacado: 3\n",
      "¿que nota has sacado en geografía? 2\n",
      "En geografíahas sacado: 2\n",
      "¿que nota has sacado en Qímica? 2\n",
      "En Qímicahas sacado: 2\n"
     ]
    }
   ],
   "source": [
    "# Ejercicio 3\n",
    "asignaturas = ['matemáticas', 'historia', 'física', 'lengua', 'geografía', 'Qímica']\n",
    "\n",
    "nota = []\n",
    "\n",
    "for a in asignaturas:\n",
    "    nota = input('¿que nota has sacado en ' + a + '? ')\n",
    "    \n",
    "    for n in nota:\n",
    "        print('En ' + a + 'has sacado: ' + n)\n"
   ]
  },
  {
   "cell_type": "code",
   "execution_count": 6,
   "id": "d8649472",
   "metadata": {},
   "outputs": [
    {
     "name": "stdout",
     "output_type": "stream",
     "text": [
      "¿Cuales fueron los números ganadores de la lotería primitiva?: 12,454,38,225\n",
      "Los numeros ganadores de la lotería son: 12,454,38,225\n"
     ]
    }
   ],
   "source": [
    "# Ejercicio 4\n",
    "numLot = input('¿Cuales fueron los números ganadores de la lotería primitiva?: ')\n",
    "numLot = numLot.split()\n",
    "numLot.sort()\n",
    "\n",
    "print('Los numeros ganadores de la lotería son: ' +  ','.join(numLot))\n"
   ]
  },
  {
   "cell_type": "code",
   "execution_count": 16,
   "id": "a6955d4c",
   "metadata": {},
   "outputs": [
    {
     "name": "stdout",
     "output_type": "stream",
     "text": [
      "[10, 9, 8, 7, 6, 5, 4, 3, 2, 1]\n"
     ]
    }
   ],
   "source": [
    "# Ejercicio 5\n",
    "number = [1, 2, 3, 4, 5, 6, 7, 8, 9, 10]\n",
    "number.reverse()\n",
    "print(number)"
   ]
  },
  {
   "cell_type": "code",
   "execution_count": 20,
   "id": "a970c997",
   "metadata": {},
   "outputs": [
    {
     "name": "stdout",
     "output_type": "stream",
     "text": [
      "¿que nota has sacado en matemáticas?: 4\n",
      "¿que nota has sacado en historia?: 8\n",
      "¿que nota has sacado en física?: 6\n",
      "¿que nota has sacado en lengua?: 7\n",
      "¿que nota has sacado en geografía?: 1\n",
      "¿que nota has sacado en qímica?: 2\n",
      "Asignaturas a repetir: matemáticas\n",
      "Asignaturas a repetir: geografía\n",
      "Asignaturas a repetir: qímica\n"
     ]
    }
   ],
   "source": [
    "# Ejercicio 6\n",
    "asignaturas = ['matemáticas', 'historia', 'física', 'lengua', 'geografía', 'qímica']\n",
    "\n",
    "notas = []\n",
    "\n",
    "repetir = []\n",
    "\n",
    "for a in asignaturas:\n",
    "    nota = int(input(f'¿que nota has sacado en {a}?: '))\n",
    "    notas.append(nota)\n",
    "\n",
    "for i in range(len(asignaturas)):\n",
    "    if notas[i] <= 5:\n",
    "        repetir.append(asignaturas[i])\n",
    "        \n",
    "for a in repetir:\n",
    "    print(f'Asignaturas a repetir: {a}')\n"
   ]
  },
  {
   "cell_type": "code",
   "execution_count": null,
   "id": "be56ee9f",
   "metadata": {},
   "outputs": [],
   "source": [
    "# Ejercicio 7\n",
    "abecedario = ['a', 'b', 'c', 'd', 'e', 'f', 'g', 'h', 'i', 'j', 'k', 'l', 'm', 'n', 'ñ', 'o', 'p', 'q', 'r', 's', 't', 'u', 'v', 'w', 'x', 'y', 'z']\n",
    "\n",
    "abcFiltrado = [l for i, l in enumerate(abecedario, start=1)if i % 3 !=0]\n",
    "\n",
    "print(abcFiltrado)\n"
   ]
  },
  {
   "cell_type": "code",
   "execution_count": 41,
   "id": "ae9e28c5",
   "metadata": {},
   "outputs": [
    {
     "name": "stdout",
     "output_type": "stream",
     "text": [
      "¿Dime una palabra?: Ora ese aro\n",
      "Tu palabra es un políndromo\n"
     ]
    }
   ],
   "source": [
    "# Ejercicio 8 \n",
    "palabra = input('¿Dime una palabra?: ')\n",
    "\n",
    "palabra = palabra.replace(\" \", \"\").lower()\n",
    "\n",
    "reversedP = palabra[::-1]\n",
    "\n",
    "if palabra == reversedP:\n",
    "    print('Tu palabra es un políndromo')\n",
    "else:\n",
    "    print('Tu palabra No es un políndromo')"
   ]
  },
  {
   "cell_type": "code",
   "execution_count": 50,
   "id": "87337ac5",
   "metadata": {},
   "outputs": [
    {
     "name": "stdout",
     "output_type": "stream",
     "text": [
      "¿Dime una palabra?: jamon y queso\n",
      "La volcal a aparece 1 veces en tu palabra.\n",
      "La volcal e aparece 1 veces en tu palabra.\n",
      "La volcal i aparece 0 veces en tu palabra.\n",
      "La volcal o aparece 2 veces en tu palabra.\n",
      "La volcal u aparece 1 veces en tu palabra.\n"
     ]
    }
   ],
   "source": [
    "# Ejercicio 9\n",
    "palabra = input('¿Dime una palabra?: ').lower()\n",
    "\n",
    "vocales = {'a':0, 'e':0, 'i':0, 'o':0, 'u':0}\n",
    "\n",
    "for v in vocales:\n",
    "    vocales[v] = palabra.count(v)\n",
    "\n",
    "for v, count in vocales.items():\n",
    "    print(f'La volcal {v} aparece {count} veces en tu palabra.')\n"
   ]
  },
  {
   "cell_type": "code",
   "execution_count": 54,
   "id": "7e90b0b0",
   "metadata": {},
   "outputs": [
    {
     "name": "stdout",
     "output_type": "stream",
     "text": [
      "El numero mayor es: 80, y el numero menor es: 8\n"
     ]
    }
   ],
   "source": [
    "# Ejercicio 10\n",
    "precios = [50, 75, 46, 22, 80, 65, 8]\n",
    "\n",
    "print('El numero mayor es: ' + str(max(precios)) + ', y el numero menor es: ' + str(min(precios)))"
   ]
  },
  {
   "cell_type": "code",
   "execution_count": 22,
   "id": "5e20bbaf",
   "metadata": {},
   "outputs": [
    {
     "name": "stdout",
     "output_type": "stream",
     "text": [
      "El producto escalar de (1, 2, 3) y (-1, 0, 2) es: 5\n"
     ]
    }
   ],
   "source": [
    "# Ejercico 11\n",
    "\n",
    "vector1 = (1,2,3)\n",
    "vector2 = (-1,0,2)\n",
    "\n",
    "prodEscalar = sum(x * y for x, y in zip(vector1, vector2))\n",
    "\n",
    "print(f'El producto escalar de {vector1} y {vector2} es: {prodEscalar}')"
   ]
  },
  {
   "cell_type": "code",
   "execution_count": null,
   "id": "dfd5615a",
   "metadata": {},
   "outputs": [],
   "source": [
    "# Ejercico 12\n",
    "'''FALTA TERMINAR FALTA TERMINAR FALTA TERMINAR FALTA TERMINAR FALTA TERMINAR FALTA TERMINAR FALTA TERMINAR '''"
   ]
  },
  {
   "cell_type": "code",
   "execution_count": 3,
   "id": "9b243596",
   "metadata": {},
   "outputs": [
    {
     "name": "stdout",
     "output_type": "stream",
     "text": [
      "Dime algunos numeros separados por \",\" : 5,7,8\n"
     ]
    },
    {
     "data": {
      "text/plain": [
       "{'media': 6.666666666666667, 'desviacón típica': 2.1602468994692865}"
      ]
     },
     "execution_count": 3,
     "metadata": {},
     "output_type": "execute_result"
    }
   ],
   "source": [
    "# Ejercico 13\n",
    "\n",
    "num = input('Dime algunos numeros separados por \",\" : ')\n",
    "num = [int(x) for x in num.split(',')]\n",
    "\n",
    "def statistic(lista):\n",
    "    media = sum(lista) / len(lista)\n",
    "    \n",
    "    desv = sum((x - media) ** 2 for x in lista) ** 0.5    \n",
    "    \n",
    "    dict = {\n",
    "        'media' : media,\n",
    "        'desviacón típica' : desv\n",
    "    }\n",
    "    \n",
    "    return dict\n",
    "\n",
    "statistic(num)"
   ]
  },
  {
   "cell_type": "code",
   "execution_count": null,
   "id": "b613927c",
   "metadata": {},
   "outputs": [],
   "source": []
  }
 ],
 "metadata": {
  "kernelspec": {
   "display_name": "Python 3 (ipykernel)",
   "language": "python",
   "name": "python3"
  },
  "language_info": {
   "codemirror_mode": {
    "name": "ipython",
    "version": 3
   },
   "file_extension": ".py",
   "mimetype": "text/x-python",
   "name": "python",
   "nbconvert_exporter": "python",
   "pygments_lexer": "ipython3",
   "version": "3.10.9"
  }
 },
 "nbformat": 4,
 "nbformat_minor": 5
}
