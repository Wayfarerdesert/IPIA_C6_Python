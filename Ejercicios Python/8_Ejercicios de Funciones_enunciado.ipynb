{
 "cells": [
  {
   "cell_type": "markdown",
   "id": "82af8848",
   "metadata": {},
   "source": [
    "### Ejercicios que faltan: \n",
    "- Ejercicio 9\n",
    "- Ejercicio 11"
   ]
  },
  {
   "cell_type": "code",
   "execution_count": 2,
   "id": "0efe5d35",
   "metadata": {},
   "outputs": [
    {
     "name": "stdout",
     "output_type": "stream",
     "text": [
      "¡Hola Amiga!\n"
     ]
    }
   ],
   "source": [
    "# Ejercicio 1\n",
    "\n",
    "def greeting ():\n",
    "    print('¡Hola Amiga!')\n",
    "\n",
    "greeting()"
   ]
  },
  {
   "cell_type": "code",
   "execution_count": 6,
   "id": "0cf33291",
   "metadata": {},
   "outputs": [
    {
     "name": "stdout",
     "output_type": "stream",
     "text": [
      "¡Hola Facundo!\n"
     ]
    }
   ],
   "source": [
    "# Ejercicio 2\n",
    "\n",
    "def greeting (nombre):\n",
    "    print('¡Hola ' + nombre + '!')\n",
    "    \n",
    "greeting('Facundo')"
   ]
  },
  {
   "cell_type": "code",
   "execution_count": 10,
   "id": "37fbe076",
   "metadata": {
    "scrolled": false
   },
   "outputs": [
    {
     "name": "stdout",
     "output_type": "stream",
     "text": [
      "El factorial de 5 es: 24\n"
     ]
    }
   ],
   "source": [
    "# Ejercicio 3\n",
    "\n",
    "def factorial(num):\n",
    "    num = num\n",
    "    result = 1\n",
    "    for i in range (1, num + 1):\n",
    "        result *= i\n",
    "        i +=1\n",
    "    print(\"El factorial de\", num, \"es:\", result)\n",
    "\n",
    "factorial(5)"
   ]
  },
  {
   "cell_type": "code",
   "execution_count": 13,
   "id": "e1046ffd",
   "metadata": {},
   "outputs": [
    {
     "data": {
      "text/plain": [
       "57.5"
      ]
     },
     "execution_count": 13,
     "metadata": {},
     "output_type": "execute_result"
    }
   ],
   "source": [
    "# Ejercicio 4\n",
    "\n",
    "def total(ammount, iva=21):\n",
    "    total = ((iva * ammount / 100) + ammount)\n",
    "    return total\n",
    "\n",
    "total(50, 15)"
   ]
  },
  {
   "cell_type": "code",
   "execution_count": 38,
   "id": "7789408a",
   "metadata": {},
   "outputs": [
    {
     "name": "stdout",
     "output_type": "stream",
     "text": [
      "78.539825\n",
      "El volúmen de cilindro es: 628.3186\n"
     ]
    }
   ],
   "source": [
    "# Ejercicio 5\n",
    "def circleArea(radio):\n",
    "    pi = 3.141593\n",
    "    \n",
    "    area = pi * radio ** 2\n",
    "    return area\n",
    "\n",
    "def cilinderVol(height):\n",
    "    vol= circleArea(5)*height\n",
    "    print('El volúmen de cilindro es:', vol)\n",
    "\n",
    "print(circleArea(5))\n",
    "\n",
    "cilinderVol(8)"
   ]
  },
  {
   "cell_type": "code",
   "execution_count": 39,
   "id": "b076b2c0",
   "metadata": {},
   "outputs": [
    {
     "data": {
      "text/plain": [
       "3.0"
      ]
     },
     "execution_count": 39,
     "metadata": {},
     "output_type": "execute_result"
    }
   ],
   "source": [
    "# Ejercicio 6\n",
    "\n",
    "def mediaNum(list):\n",
    "    media = sum(list) / len(list)\n",
    "    return media\n",
    "\n",
    "mediaNum([1,2,3,4,5])\n"
   ]
  },
  {
   "cell_type": "code",
   "execution_count": 43,
   "id": "15e3e4ec",
   "metadata": {},
   "outputs": [
    {
     "data": {
      "text/plain": [
       "[1, 4, 9, 16, 25]"
      ]
     },
     "execution_count": 43,
     "metadata": {},
     "output_type": "execute_result"
    }
   ],
   "source": [
    "# Ejercico 7\n",
    "def squared(list):\n",
    "    squared = []\n",
    "    \n",
    "    for i in list:\n",
    "        n= i**2\n",
    "        squared.append(n)\n",
    "    \n",
    "    return squared\n",
    "\n",
    "squared([1,2,3,4,5])\n",
    "        \n",
    "    "
   ]
  },
  {
   "cell_type": "code",
   "execution_count": 17,
   "id": "2815414c",
   "metadata": {},
   "outputs": [
    {
     "data": {
      "text/plain": [
       "{'media': 3.0, 'varianza': 2.0, 'desviacón típica': 3.1622776601683795}"
      ]
     },
     "execution_count": 17,
     "metadata": {},
     "output_type": "execute_result"
    }
   ],
   "source": [
    "# Ejercicio 8\n",
    "num = [1,2,3,4,5]\n",
    "\n",
    "def statistic(lista):\n",
    "    media = sum(lista) / len(lista)\n",
    "    \n",
    "    sumSquares = sum((x - media) ** 2 for x in lista)\n",
    "    \n",
    "    var = sumSquares / len(lista)\n",
    "    \n",
    "    desv = sumSquares ** 0.5\n",
    "    \n",
    "    \n",
    "    dict = {\n",
    "        'media' : media,\n",
    "        'varianza' : var,\n",
    "        'desviacón típica' : desv\n",
    "    }\n",
    "    \n",
    "    return dict\n",
    "\n",
    "statistic(num)\n"
   ]
  },
  {
   "cell_type": "code",
   "execution_count": 39,
   "id": "6c530807",
   "metadata": {},
   "outputs": [
    {
     "data": {
      "text/plain": [
       "12"
      ]
     },
     "execution_count": 39,
     "metadata": {},
     "output_type": "execute_result"
    }
   ],
   "source": [
    "# Ejercicio 9\n",
    "num1 = 48\n",
    "num2= 36\n",
    "\n",
    "def mcd(a, b):\n",
    "    if b == 0:\n",
    "        return a\n",
    "    \n",
    "    residuo = a % b\n",
    "    return mcd(b, residuo)\n",
    "        \n",
    "    \n",
    "    \n",
    "mcd(num1, num2)\n",
    "    "
   ]
  },
  {
   "cell_type": "code",
   "execution_count": 31,
   "id": "606f01ab",
   "metadata": {},
   "outputs": [
    {
     "name": "stdout",
     "output_type": "stream",
     "text": [
      "1101 13\n"
     ]
    }
   ],
   "source": [
    "# Ejercicio 10\n",
    "binario = 1101\n",
    "decimal = 13\n",
    "\n",
    "def toBinary(a):\n",
    "    binList =''\n",
    "    \n",
    "    while a > 0:\n",
    "        residuo = a % 2\n",
    "        binList = str(residuo) + binList\n",
    "        a = a // 2\n",
    "        \n",
    "    return binList\n",
    "    \n",
    "\n",
    "\n",
    "def toDecimal(a):\n",
    "    decimal = 0\n",
    "    binario = len(str(a))\n",
    "    \n",
    "    for i in range(binario):\n",
    "        bit = int(str(a)[i])\n",
    "        square = binario - i - 1\n",
    "        decimal+= bit * (2 ** square)\n",
    "        \n",
    "    return decimal\n",
    "    \n",
    "\n",
    "print(toBinary(decimal),toDecimal(binario))\n"
   ]
  },
  {
   "cell_type": "code",
   "execution_count": 44,
   "id": "0db7803a",
   "metadata": {},
   "outputs": [
    {
     "data": {
      "text/plain": [
       "('the', 6)"
      ]
     },
     "execution_count": 44,
     "metadata": {},
     "output_type": "execute_result"
    }
   ],
   "source": [
    "# Ejercicio 11\n",
    "\n",
    "def countWord(text):\n",
    "    text = text.lower()\n",
    "    text = text.replace('.', '').replace(',','').replace('!','').replace('¡','').replace('¿','').replace('?','')\n",
    "    \n",
    "    words= text.split()\n",
    "    \n",
    "    myDict = {}\n",
    "    \n",
    "    for i in words:\n",
    "        if i in myDict:\n",
    "            myDict[i] += 1\n",
    "        else:\n",
    "            myDict[i] = 1\n",
    "        \n",
    "    return myDict      \n",
    "    \n",
    "def mostUsed(dictionary):\n",
    "    maxWord = None\n",
    "    maxFreq = 0\n",
    "    \n",
    "    for word, freq in dictionary.items():\n",
    "        if freq > maxFreq:\n",
    "            maxWord = word\n",
    "            maxFreq = freq\n",
    "            \n",
    "    return (maxWord, maxFreq)\n",
    "    \n",
    "    \n",
    "    \n",
    "    \n",
    "texto = \"Lorem Ipsum is simply dummy text of the printing and typesetting industry. Lorem Ipsum has been the industry's standard dummy text ever since the 1500s, when an unknown printer took a galley of type and scrambled it to make a type specimen book. It has survived not only five centuries, but also the leap into electronic typesetting, remaining essentially unchanged. It was popularised in the 1960s with the release of Letraset sheets containing Lorem Ipsum passages, and more recently with desktop publishing software like Aldus PageMaker including versions of Lorem Ipsum.\"    \n",
    "\n",
    "mostUsed(countWord(texto))\n",
    "\n"
   ]
  },
  {
   "cell_type": "code",
   "execution_count": null,
   "id": "668d06c1",
   "metadata": {},
   "outputs": [],
   "source": []
  }
 ],
 "metadata": {
  "kernelspec": {
   "display_name": "Python 3 (ipykernel)",
   "language": "python",
   "name": "python3"
  },
  "language_info": {
   "codemirror_mode": {
    "name": "ipython",
    "version": 3
   },
   "file_extension": ".py",
   "mimetype": "text/x-python",
   "name": "python",
   "nbconvert_exporter": "python",
   "pygments_lexer": "ipython3",
   "version": "3.10.9"
  }
 },
 "nbformat": 4,
 "nbformat_minor": 5
}
