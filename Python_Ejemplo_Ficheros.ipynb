{
 "cells": [
  {
   "cell_type": "code",
   "execution_count": 86,
   "id": "694b8301",
   "metadata": {},
   "outputs": [
    {
     "ename": "FileNotFoundError",
     "evalue": "[Errno 2] No such file or directory: 'el_quijote.txt'",
     "output_type": "error",
     "traceback": [
      "\u001b[1;31m---------------------------------------------------------------------------\u001b[0m",
      "\u001b[1;31mFileNotFoundError\u001b[0m                         Traceback (most recent call last)",
      "Cell \u001b[1;32mIn[86], line 1\u001b[0m\n\u001b[1;32m----> 1\u001b[0m f\u001b[38;5;241m=\u001b[39m\u001b[38;5;28;43mopen\u001b[39;49m\u001b[43m(\u001b[49m\u001b[38;5;124;43m'\u001b[39;49m\u001b[38;5;124;43mel_quijote.txt\u001b[39;49m\u001b[38;5;124;43m'\u001b[39;49m\u001b[43m)\u001b[49m\n",
      "File \u001b[1;32m~\\anaconda3\\lib\\site-packages\\IPython\\core\\interactiveshell.py:282\u001b[0m, in \u001b[0;36m_modified_open\u001b[1;34m(file, *args, **kwargs)\u001b[0m\n\u001b[0;32m    275\u001b[0m \u001b[38;5;28;01mif\u001b[39;00m file \u001b[38;5;129;01min\u001b[39;00m {\u001b[38;5;241m0\u001b[39m, \u001b[38;5;241m1\u001b[39m, \u001b[38;5;241m2\u001b[39m}:\n\u001b[0;32m    276\u001b[0m     \u001b[38;5;28;01mraise\u001b[39;00m \u001b[38;5;167;01mValueError\u001b[39;00m(\n\u001b[0;32m    277\u001b[0m         \u001b[38;5;124mf\u001b[39m\u001b[38;5;124m\"\u001b[39m\u001b[38;5;124mIPython won\u001b[39m\u001b[38;5;124m'\u001b[39m\u001b[38;5;124mt let you open fd=\u001b[39m\u001b[38;5;132;01m{\u001b[39;00mfile\u001b[38;5;132;01m}\u001b[39;00m\u001b[38;5;124m by default \u001b[39m\u001b[38;5;124m\"\u001b[39m\n\u001b[0;32m    278\u001b[0m         \u001b[38;5;124m\"\u001b[39m\u001b[38;5;124mas it is likely to crash IPython. If you know what you are doing, \u001b[39m\u001b[38;5;124m\"\u001b[39m\n\u001b[0;32m    279\u001b[0m         \u001b[38;5;124m\"\u001b[39m\u001b[38;5;124myou can use builtins\u001b[39m\u001b[38;5;124m'\u001b[39m\u001b[38;5;124m open.\u001b[39m\u001b[38;5;124m\"\u001b[39m\n\u001b[0;32m    280\u001b[0m     )\n\u001b[1;32m--> 282\u001b[0m \u001b[38;5;28;01mreturn\u001b[39;00m io_open(file, \u001b[38;5;241m*\u001b[39margs, \u001b[38;5;241m*\u001b[39m\u001b[38;5;241m*\u001b[39mkwargs)\n",
      "\u001b[1;31mFileNotFoundError\u001b[0m: [Errno 2] No such file or directory: 'el_quijote.txt'"
     ]
    }
   ],
   "source": [
    "f=open('data.dat')"
   ]
  },
  {
   "cell_type": "code",
   "execution_count": null,
   "id": "fc7363e4",
   "metadata": {},
   "outputs": [],
   "source": []
  },
  {
   "cell_type": "code",
   "execution_count": 85,
   "id": "8c19182a",
   "metadata": {},
   "outputs": [
    {
     "ename": "UnicodeDecodeError",
     "evalue": "'charmap' codec can't decode byte 0x81 in position 74: character maps to <undefined>",
     "output_type": "error",
     "traceback": [
      "\u001b[1;31m---------------------------------------------------------------------------\u001b[0m",
      "\u001b[1;31mUnicodeDecodeError\u001b[0m                        Traceback (most recent call last)",
      "Cell \u001b[1;32mIn[85], line 1\u001b[0m\n\u001b[1;32m----> 1\u001b[0m \u001b[43mf\u001b[49m\u001b[38;5;241;43m.\u001b[39;49m\u001b[43mread\u001b[49m\u001b[43m(\u001b[49m\u001b[43m)\u001b[49m\n",
      "File \u001b[1;32m~\\anaconda3\\lib\\encodings\\cp1252.py:23\u001b[0m, in \u001b[0;36mIncrementalDecoder.decode\u001b[1;34m(self, input, final)\u001b[0m\n\u001b[0;32m     22\u001b[0m \u001b[38;5;28;01mdef\u001b[39;00m \u001b[38;5;21mdecode\u001b[39m(\u001b[38;5;28mself\u001b[39m, \u001b[38;5;28minput\u001b[39m, final\u001b[38;5;241m=\u001b[39m\u001b[38;5;28;01mFalse\u001b[39;00m):\n\u001b[1;32m---> 23\u001b[0m     \u001b[38;5;28;01mreturn\u001b[39;00m \u001b[43mcodecs\u001b[49m\u001b[38;5;241;43m.\u001b[39;49m\u001b[43mcharmap_decode\u001b[49m\u001b[43m(\u001b[49m\u001b[38;5;28;43minput\u001b[39;49m\u001b[43m,\u001b[49m\u001b[38;5;28;43mself\u001b[39;49m\u001b[38;5;241;43m.\u001b[39;49m\u001b[43merrors\u001b[49m\u001b[43m,\u001b[49m\u001b[43mdecoding_table\u001b[49m\u001b[43m)\u001b[49m[\u001b[38;5;241m0\u001b[39m]\n",
      "\u001b[1;31mUnicodeDecodeError\u001b[0m: 'charmap' codec can't decode byte 0x81 in position 74: character maps to <undefined>"
     ]
    }
   ],
   "source": [
    "f.read()"
   ]
  },
  {
   "cell_type": "code",
   "execution_count": 76,
   "id": "134a495e",
   "metadata": {},
   "outputs": [
    {
     "name": "stdout",
     "output_type": "stream",
     "text": [
      "29 23\n",
      "\n",
      "31 23\n",
      "\n",
      "34 26\n",
      "\n",
      "33 23\n",
      "\n",
      "29 22\n",
      "\n",
      "28 22\n",
      "\n",
      "28 22\n",
      "\n"
     ]
    }
   ],
   "source": [
    "f=open('data2.dat')\n",
    "for linea in f:\n",
    "    print(linea)\n",
    "f.close()"
   ]
  },
  {
   "cell_type": "code",
   "execution_count": 77,
   "id": "3ccd669c",
   "metadata": {},
   "outputs": [
    {
     "name": "stdout",
     "output_type": "stream",
     "text": [
      "GCFV\n",
      "\n",
      "GCHI\n",
      "\n",
      "GCLA\n",
      "\n",
      "GCLP\n",
      "\n",
      "GCGM\n",
      "\n",
      "GCRR\n",
      "\n",
      "GCTS\n",
      "\n",
      "GCXO\n",
      "\n"
     ]
    }
   ],
   "source": [
    "f =open('data.dat', 'w')\n",
    "canary_iata = (\"GCFV\", \"GCHI\", \"GCLA\", \"GCLP\", \"GCGM\", \"GCRR\", \"GCTS\", \"GCXO\")\n",
    "for code in canary_iata:\n",
    "    f.write(code + '\\n')\n",
    "f.close()\n",
    "\n",
    "f =open('data.dat')\n",
    "for line in f:\n",
    "    print(line)\n",
    "f.close()\n"
   ]
  },
  {
   "cell_type": "code",
   "execution_count": 78,
   "id": "21a4a362",
   "metadata": {},
   "outputs": [
    {
     "name": "stdout",
     "output_type": "stream",
     "text": [
      "GCFV\n",
      "\n",
      "GCHI\n",
      "\n",
      "GCLA\n",
      "\n",
      "GCLP\n",
      "\n",
      "GCGM\n",
      "\n",
      "GCRR\n",
      "\n",
      "GCTS\n",
      "\n",
      "GCXO\n",
      "\n",
      "HTML\n",
      "\n",
      "CSS\n",
      "\n",
      "JS\n",
      "\n",
      "PYTHON\n",
      "\n"
     ]
    }
   ],
   "source": [
    "f = open('data.dat', 'a')\n",
    "\n",
    "techs = (\"HTML\", \"CSS\", \"JS\", \"PYTHON\")\n",
    "for code in techs:\n",
    "    f.write(code + '\\n')\n",
    "f.close()\n",
    "\n",
    "f =open('data.dat')\n",
    "for line in f:\n",
    "    print(line)\n",
    "f.close()"
   ]
  },
  {
   "cell_type": "code",
   "execution_count": 59,
   "id": "0921b54f",
   "metadata": {},
   "outputs": [
    {
     "name": "stdout",
     "output_type": "stream",
     "text": [
      "29 23\n",
      "\n",
      "31 23\n",
      "\n",
      "34 26\n",
      "\n",
      "33 23\n",
      "\n",
      "29 22\n",
      "\n",
      "28 22\n",
      "\n",
      "28 22\n",
      "\n",
      "Temp. Max 29,Temp. Min 23\n",
      "Temp. Max 31,Temp. Min 23\n",
      "Temp. Max 34,Temp. Min 26\n",
      "Temp. Max 33,Temp. Min 23\n",
      "Temp. Max 29,Temp. Min 22\n",
      "Temp. Max 28,Temp. Min 22\n",
      "Temp. Max 28,Temp. Min 22\n"
     ]
    }
   ],
   "source": [
    "f=open('data2.dat')\n",
    "for line in f:\n",
    "    print(line)\n",
    "f.close()\n",
    "\n",
    "with open('data2.dat') as f:\n",
    "    for line in f:\n",
    "        max_temp, min_temp = line.strip().split()\n",
    "        print(f'Temp. Max {max_temp},Temp. Min {min_temp}')"
   ]
  },
  {
   "cell_type": "code",
   "execution_count": 80,
   "id": "c345ed25",
   "metadata": {},
   "outputs": [],
   "source": [
    "lottery = [43, 21, 99, 18, 37, 99]\n",
    "with open('lottery.dat', 'w')as f:\n",
    "    for number in lottery:\n",
    "        f.write(str(number) + '\\n')"
   ]
  },
  {
   "cell_type": "code",
   "execution_count": 81,
   "id": "42c20049",
   "metadata": {},
   "outputs": [],
   "source": [
    "lottery = ['43','67', '21', '99']\n",
    "with open('lottery.dat', 'w')as f:\n",
    "    for number in lottery:\n",
    "        f.write(number + '\\n')"
   ]
  },
  {
   "cell_type": "code",
   "execution_count": 82,
   "id": "dd3d32e4",
   "metadata": {},
   "outputs": [
    {
     "name": "stdout",
     "output_type": "stream",
     "text": [
      "43\n",
      "67\n",
      "21\n",
      "99\n"
     ]
    }
   ],
   "source": [
    "with open('lottery.dat')as f:\n",
    "    for number in lottery:\n",
    "        print(number)"
   ]
  },
  {
   "cell_type": "code",
   "execution_count": null,
   "id": "0c409251",
   "metadata": {},
   "outputs": [],
   "source": []
  }
 ],
 "metadata": {
  "kernelspec": {
   "display_name": "Python 3 (ipykernel)",
   "language": "python",
   "name": "python3"
  },
  "language_info": {
   "codemirror_mode": {
    "name": "ipython",
    "version": 3
   },
   "file_extension": ".py",
   "mimetype": "text/x-python",
   "name": "python",
   "nbconvert_exporter": "python",
   "pygments_lexer": "ipython3",
   "version": "3.10.9"
  }
 },
 "nbformat": 4,
 "nbformat_minor": 5
}
